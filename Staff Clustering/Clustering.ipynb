{
 "cells": [
  {
   "cell_type": "code",
   "execution_count": 1,
   "metadata": {},
   "outputs": [],
   "source": [
    "import pandas as pd"
   ]
  },
  {
   "cell_type": "code",
   "execution_count": 357,
   "metadata": {},
   "outputs": [
    {
     "name": "stdout",
     "output_type": "stream",
     "text": [
      "<class 'pandas.core.frame.DataFrame'>\n",
      "RangeIndex: 39280 entries, 0 to 39279\n",
      "Data columns (total 20 columns):\n",
      " #   Column                    Non-Null Count  Dtype         \n",
      "---  ------                    --------------  -----         \n",
      " 0   Date                      39280 non-null  datetime64[ns]\n",
      " 1   User                      39280 non-null  object        \n",
      " 2   Client                    39280 non-null  object        \n",
      " 3   Project                   39280 non-null  object        \n",
      " 4   Project stage             39280 non-null  object        \n",
      " 5   Booking type              39280 non-null  object        \n",
      " 6   Booking                   39280 non-null  object        \n",
      " 7   User Job code             39280 non-null  object        \n",
      " 8   User Active               39280 non-null  object        \n",
      " 9   User Department           38800 non-null  object        \n",
      " 10  User Team                 38440 non-null  object        \n",
      " 11  User User location        38320 non-null  object        \n",
      " 12  Client Client Industry    39280 non-null  object        \n",
      " 13  Project End Date          39200 non-null  datetime64[ns]\n",
      " 14  Project Project Location  39160 non-null  object        \n",
      " 15  Booking Notes             80 non-null     object        \n",
      " 16  Booking End Date          39280 non-null  datetime64[ns]\n",
      " 17  Booking Start Date        39280 non-null  datetime64[ns]\n",
      " 18  All booked hours          39280 non-null  float64       \n",
      " 19  Months                    39280 non-null  object        \n",
      "dtypes: datetime64[ns](4), float64(1), object(15)\n",
      "memory usage: 6.0+ MB\n"
     ]
    }
   ],
   "source": [
    "report = pd.read_excel('2021 YTD Staffing History.xlsx', sheet_name='Individual_Staffing_8wk_report_')\n",
    "report.info()"
   ]
  },
  {
   "cell_type": "code",
   "execution_count": 358,
   "metadata": {},
   "outputs": [
    {
     "data": {
      "text/html": [
       "<div>\n",
       "<style scoped>\n",
       "    .dataframe tbody tr th:only-of-type {\n",
       "        vertical-align: middle;\n",
       "    }\n",
       "\n",
       "    .dataframe tbody tr th {\n",
       "        vertical-align: top;\n",
       "    }\n",
       "\n",
       "    .dataframe thead th {\n",
       "        text-align: right;\n",
       "    }\n",
       "</style>\n",
       "<table border=\"1\" class=\"dataframe\">\n",
       "  <thead>\n",
       "    <tr style=\"text-align: right;\">\n",
       "      <th></th>\n",
       "      <th>User</th>\n",
       "      <th>Client</th>\n",
       "      <th>Project</th>\n",
       "      <th>Client Client Industry</th>\n",
       "    </tr>\n",
       "  </thead>\n",
       "  <tbody>\n",
       "    <tr>\n",
       "      <th>0</th>\n",
       "      <td>Abbas, Hadiqa</td>\n",
       "      <td>Novant Health, Inc.</td>\n",
       "      <td>Provider Solutions</td>\n",
       "      <td>Healthcare - Provider</td>\n",
       "    </tr>\n",
       "    <tr>\n",
       "      <th>1</th>\n",
       "      <td>Abbas, Hadiqa</td>\n",
       "      <td>Humana</td>\n",
       "      <td>Tiered Networks Optimization</td>\n",
       "      <td>Healthcare - Payor</td>\n",
       "    </tr>\n",
       "    <tr>\n",
       "      <th>2</th>\n",
       "      <td>Abbas, Hadiqa</td>\n",
       "      <td>Molina Healthcare, Inc.</td>\n",
       "      <td>CA Configuration</td>\n",
       "      <td>Healthcare - Payor</td>\n",
       "    </tr>\n",
       "    <tr>\n",
       "      <th>3</th>\n",
       "      <td>Abbas, Hadiqa</td>\n",
       "      <td>Optima Health</td>\n",
       "      <td>QNXT Pre-Implementation</td>\n",
       "      <td>Healthcare - Payor</td>\n",
       "    </tr>\n",
       "    <tr>\n",
       "      <th>4</th>\n",
       "      <td>Albrecht, Megan</td>\n",
       "      <td>Optima Health</td>\n",
       "      <td>Optima Health Sentara</td>\n",
       "      <td>Healthcare - Payor</td>\n",
       "    </tr>\n",
       "    <tr>\n",
       "      <th>...</th>\n",
       "      <td>...</td>\n",
       "      <td>...</td>\n",
       "      <td>...</td>\n",
       "      <td>...</td>\n",
       "    </tr>\n",
       "    <tr>\n",
       "      <th>940</th>\n",
       "      <td>Zaruba, Suzanne</td>\n",
       "      <td>Health Net, Inc</td>\n",
       "      <td>CA Configuration Review</td>\n",
       "      <td>Healthcare - Payor</td>\n",
       "    </tr>\n",
       "    <tr>\n",
       "      <th>941</th>\n",
       "      <td>Zaruba, Suzanne</td>\n",
       "      <td>Humana</td>\n",
       "      <td>Tiered Networks Optimization</td>\n",
       "      <td>Healthcare - Payor</td>\n",
       "    </tr>\n",
       "    <tr>\n",
       "      <th>942</th>\n",
       "      <td>Zaruba, Suzanne</td>\n",
       "      <td>Molina Healthcare, Inc.</td>\n",
       "      <td>CA Configuration</td>\n",
       "      <td>Healthcare - Payor</td>\n",
       "    </tr>\n",
       "    <tr>\n",
       "      <th>943</th>\n",
       "      <td>Zhou, Wei</td>\n",
       "      <td>Aetna Life Insurance Company</td>\n",
       "      <td>Analytics and Delivery Support</td>\n",
       "      <td>Healthcare - Payor</td>\n",
       "    </tr>\n",
       "    <tr>\n",
       "      <th>944</th>\n",
       "      <td>Zhou, Wei</td>\n",
       "      <td>Centene</td>\n",
       "      <td>Vendor Risk Assessment</td>\n",
       "      <td>Healthcare - Payor</td>\n",
       "    </tr>\n",
       "  </tbody>\n",
       "</table>\n",
       "<p>945 rows × 4 columns</p>\n",
       "</div>"
      ],
      "text/plain": [
       "                User                        Client  \\\n",
       "0      Abbas, Hadiqa           Novant Health, Inc.   \n",
       "1      Abbas, Hadiqa                        Humana   \n",
       "2      Abbas, Hadiqa       Molina Healthcare, Inc.   \n",
       "3      Abbas, Hadiqa                 Optima Health   \n",
       "4    Albrecht, Megan                 Optima Health   \n",
       "..               ...                           ...   \n",
       "940  Zaruba, Suzanne               Health Net, Inc   \n",
       "941  Zaruba, Suzanne                        Humana   \n",
       "942  Zaruba, Suzanne       Molina Healthcare, Inc.   \n",
       "943        Zhou, Wei  Aetna Life Insurance Company   \n",
       "944        Zhou, Wei                       Centene   \n",
       "\n",
       "                            Project Client Client Industry  \n",
       "0                Provider Solutions  Healthcare - Provider  \n",
       "1      Tiered Networks Optimization     Healthcare - Payor  \n",
       "2                  CA Configuration     Healthcare - Payor  \n",
       "3           QNXT Pre-Implementation     Healthcare - Payor  \n",
       "4             Optima Health Sentara     Healthcare - Payor  \n",
       "..                              ...                    ...  \n",
       "940         CA Configuration Review     Healthcare - Payor  \n",
       "941    Tiered Networks Optimization     Healthcare - Payor  \n",
       "942                CA Configuration     Healthcare - Payor  \n",
       "943  Analytics and Delivery Support     Healthcare - Payor  \n",
       "944          Vendor Risk Assessment     Healthcare - Payor  \n",
       "\n",
       "[945 rows x 4 columns]"
      ]
     },
     "execution_count": 358,
     "metadata": {},
     "output_type": "execute_result"
    }
   ],
   "source": [
    "perms = report[['User', 'Client', 'Project', 'Client Client Industry']].drop_duplicates().reset_index(drop=True)\n",
    "perms"
   ]
  },
  {
   "cell_type": "code",
   "execution_count": 359,
   "metadata": {},
   "outputs": [],
   "source": [
    "#perms['User'] = perms['User'].map(lambda x: x.split(', ')[1] + ' ' + x.split(', ')[0])"
   ]
  },
  {
   "cell_type": "code",
   "execution_count": 360,
   "metadata": {},
   "outputs": [],
   "source": [
    "proj_groups = perms.groupby(['Project']).agg({'User': [pd.Series.nunique, lambda x: list(np.unique(x.values))]}).reset_index()\n",
    "proj_groups.columns = proj_groups.columns.droplevel(0)\n",
    "proj_groups = proj_groups.rename(columns={'':'Project', 'nunique': 'Num_Supporters', '<lambda_0>': 'Supporters'})\n",
    "proj_groups = proj_groups.sort_values('Num_Supporters', ascending=False).reset_index(drop=True)"
   ]
  },
  {
   "cell_type": "code",
   "execution_count": 361,
   "metadata": {},
   "outputs": [],
   "source": [
    "team_1 = set(proj_groups.loc[0, 'Supporters'])\n",
    "team_2 = set(proj_groups.loc[1, 'Supporters'])\n",
    "team_3 = set(proj_groups.loc[2, 'Supporters'])\n",
    "team_4 = set(proj_groups.loc[3, 'Supporters'])\n",
    "team_5 = set(proj_groups.loc[4, 'Supporters'])\n",
    "team_6 = set(proj_groups.loc[5, 'Supporters'])"
   ]
  },
  {
   "cell_type": "code",
   "execution_count": 362,
   "metadata": {},
   "outputs": [
    {
     "data": {
      "text/plain": [
       "(209, 83)"
      ]
     },
     "execution_count": 362,
     "metadata": {},
     "output_type": "execute_result"
    }
   ],
   "source": [
    "users = pd.get_dummies(perms.drop(columns='Project'), {'Client': '(CLIENT)', 'Client Client Industry': '(INDUSTRY)'}, prefix_sep=' ', columns=['Client', 'Client Client Industry']).groupby('User').sum()\n",
    "users.shape"
   ]
  },
  {
   "cell_type": "markdown",
   "metadata": {},
   "source": [
    "# Find Unigrams"
   ]
  },
  {
   "cell_type": "code",
   "execution_count": 211,
   "metadata": {},
   "outputs": [
    {
     "name": "stderr",
     "output_type": "stream",
     "text": [
      "<ipython-input-211-8b4f6f965c56>:1: FutureWarning: The default value of regex will change from True to False in a future version.\n",
      "  perms['Client'] = perms['Project'].str.replace(r'[^\\w\\s]','')\n"
     ]
    }
   ],
   "source": [
    "perms['Client'] = perms['Project'].str.replace(r'[^\\w\\s]','')"
   ]
  },
  {
   "cell_type": "code",
   "execution_count": 191,
   "metadata": {},
   "outputs": [],
   "source": [
    "from sklearn.feature_extraction.text import CountVectorizer"
   ]
  },
  {
   "cell_type": "code",
   "execution_count": 219,
   "metadata": {},
   "outputs": [
    {
     "data": {
      "text/html": [
       "<div>\n",
       "<style scoped>\n",
       "    .dataframe tbody tr th:only-of-type {\n",
       "        vertical-align: middle;\n",
       "    }\n",
       "\n",
       "    .dataframe tbody tr th {\n",
       "        vertical-align: top;\n",
       "    }\n",
       "\n",
       "    .dataframe thead th {\n",
       "        text-align: right;\n",
       "    }\n",
       "</style>\n",
       "<table border=\"1\" class=\"dataframe\">\n",
       "  <thead>\n",
       "    <tr style=\"text-align: right;\">\n",
       "      <th></th>\n",
       "      <th>0</th>\n",
       "    </tr>\n",
       "  </thead>\n",
       "  <tbody>\n",
       "    <tr>\n",
       "      <th>support</th>\n",
       "      <td>144</td>\n",
       "    </tr>\n",
       "    <tr>\n",
       "      <th>cost</th>\n",
       "      <td>111</td>\n",
       "    </tr>\n",
       "    <tr>\n",
       "      <th>reduction</th>\n",
       "      <td>95</td>\n",
       "    </tr>\n",
       "    <tr>\n",
       "      <th>configuration</th>\n",
       "      <td>88</td>\n",
       "    </tr>\n",
       "    <tr>\n",
       "      <th>strategic</th>\n",
       "      <td>67</td>\n",
       "    </tr>\n",
       "    <tr>\n",
       "      <th>assessment</th>\n",
       "      <td>58</td>\n",
       "    </tr>\n",
       "    <tr>\n",
       "      <th>health</th>\n",
       "      <td>50</td>\n",
       "    </tr>\n",
       "    <tr>\n",
       "      <th>management</th>\n",
       "      <td>46</td>\n",
       "    </tr>\n",
       "    <tr>\n",
       "      <th>contracting</th>\n",
       "      <td>46</td>\n",
       "    </tr>\n",
       "    <tr>\n",
       "      <th>and</th>\n",
       "      <td>37</td>\n",
       "    </tr>\n",
       "  </tbody>\n",
       "</table>\n",
       "</div>"
      ],
      "text/plain": [
       "                 0\n",
       "support        144\n",
       "cost           111\n",
       "reduction       95\n",
       "configuration   88\n",
       "strategic       67\n",
       "assessment      58\n",
       "health          50\n",
       "management      46\n",
       "contracting     46\n",
       "and             37"
      ]
     },
     "execution_count": 219,
     "metadata": {},
     "output_type": "execute_result"
    }
   ],
   "source": [
    "count_vec = CountVectorizer()\n",
    "dtm = count_vec.fit_transform(perms['Project']).toarray()\n",
    "top_10_unigrams = pd.DataFrame(dtm.sum(axis=0), index=count_vec.get_feature_names()).sort_values(0, ascending=False).iloc[:10]\n",
    "top_10_unigrams"
   ]
  },
  {
   "cell_type": "code",
   "execution_count": 220,
   "metadata": {},
   "outputs": [
    {
     "data": {
      "text/plain": [
       "Strategic Cost Reduction                      54\n",
       "Configuration                                 30\n",
       "Revenue Enhancement                           22\n",
       "HBR Boost                                     18\n",
       "Vendor Risk Assessment                        16\n",
       "                                              ..\n",
       "NonLabor Cost Reduction                        1\n",
       "Med Rx Benefit Cost Reduction                  1\n",
       "NonCapitated Spend                             1\n",
       "School Age Data System                         1\n",
       "Blackpool Bed Day Reduction Programme  LLC     1\n",
       "Name: Client, Length: 135, dtype: int64"
      ]
     },
     "execution_count": 220,
     "metadata": {},
     "output_type": "execute_result"
    }
   ],
   "source": [
    "perms['Client'].value_counts()"
   ]
  },
  {
   "cell_type": "markdown",
   "metadata": {},
   "source": [
    "# Cluster"
   ]
  },
  {
   "cell_type": "code",
   "execution_count": 363,
   "metadata": {
    "scrolled": false
   },
   "outputs": [],
   "source": [
    "from sklearn.decomposition import PCA\n",
    "from sklearn.cluster import KMeans\n",
    "import seaborn as sns\n",
    "import matplotlib.pyplot as plt\n",
    "import numpy as np"
   ]
  },
  {
   "cell_type": "code",
   "execution_count": 409,
   "metadata": {},
   "outputs": [],
   "source": [
    "pca = PCA(n_components=2)\n",
    "users_red = pca.fit_transform(users)"
   ]
  },
  {
   "cell_type": "code",
   "execution_count": 410,
   "metadata": {},
   "outputs": [
    {
     "name": "stderr",
     "output_type": "stream",
     "text": [
      "/opt/anaconda3/lib/python3.8/site-packages/seaborn/_decorators.py:36: FutureWarning: Pass the following variables as keyword args: x, y. From version 0.12, the only valid positional argument will be `data`, and passing other arguments without an explicit keyword will result in an error or misinterpretation.\n",
      "  warnings.warn(\n"
     ]
    },
    {
     "data": {
      "text/plain": [
       "Text(0, 0.5, 'Intertia')"
      ]
     },
     "execution_count": 410,
     "metadata": {},
     "output_type": "execute_result"
    },
    {
     "data": {
      "image/png": "[encoded data removed]",
      "text/plain": [
       "<Figure size 432x288 with 1 Axes>"
      ]
     },
     "metadata": {
      "needs_background": "light"
     },
     "output_type": "display_data"
    }
   ],
   "source": [
    "ks = [i for i in range(1, 11)]\n",
    "inertias = []\n",
    "for k in ks:\n",
    "    km = KMeans(n_clusters=k)\n",
    "    km.fit(users_red)\n",
    "    inertias.append(km.inertia_)\n",
    "\n",
    "sns.lineplot(ks, inertias)\n",
    "plt.title('Elbow Curve for Optimal Value of K')\n",
    "plt.xlabel('k')\n",
    "plt.ylabel('Intertia')"
   ]
  },
  {
   "cell_type": "code",
   "execution_count": 415,
   "metadata": {},
   "outputs": [],
   "source": [
    "km = KMeans(n_clusters=10)\n",
    "km.fit(users)\n",
    "users['Cluster'] = km.predict(users_red)"
   ]
  },
  {
   "cell_type": "code",
   "execution_count": 416,
   "metadata": {},
   "outputs": [
    {
     "name": "stderr",
     "output_type": "stream",
     "text": [
      "/opt/anaconda3/lib/python3.8/site-packages/seaborn/_decorators.py:36: FutureWarning: Pass the following variables as keyword args: x, y. From version 0.12, the only valid positional argument will be `data`, and passing other arguments without an explicit keyword will result in an error or misinterpretation.\n",
      "  warnings.warn(\n"
     ]
    },
    {
     "data": {
      "text/plain": [
       "<matplotlib.axes._subplots.AxesSubplot at 0x7f8653756fd0>"
      ]
     },
     "execution_count": 416,
     "metadata": {},
     "output_type": "execute_result"
    },
    {
     "data": {
      "image/png": "[encoded data removed]",
      "text/plain": [
       "<Figure size 432x288 with 1 Axes>"
      ]
     },
     "metadata": {
      "needs_background": "light"
     },
     "output_type": "display_data"
    }
   ],
   "source": [
    "sns.scatterplot(users_red[:,0], users_red[:,1], hue=users['Cluster'])"
   ]
  },
  {
   "cell_type": "code",
   "execution_count": 417,
   "metadata": {},
   "outputs": [
    {
     "data": {
      "text/plain": [
       "4    76\n",
       "0    70\n",
       "6    34\n",
       "2    11\n",
       "9     8\n",
       "5     3\n",
       "8     3\n",
       "1     2\n",
       "3     1\n",
       "7     1\n",
       "Name: Cluster, dtype: int64"
      ]
     },
     "execution_count": 417,
     "metadata": {},
     "output_type": "execute_result"
    }
   ],
   "source": [
    "users['Cluster'].value_counts()"
   ]
  },
  {
   "cell_type": "code",
   "execution_count": 442,
   "metadata": {},
   "outputs": [],
   "source": [
    "cluster_splits = []\n",
    "for i in range(10):\n",
    "    #exec(f\"cluster_{i}_splits = [lst.tolist() for lst in np.array_split(list(users[users['Cluster'] == {i}].index), 6)]\")\n",
    "    cluster_splits.append([lst.tolist() for lst in np.array_split(list(users[users['Cluster'] == i].sample(frac=1).index), 6)])\n",
    "# cluster_1_splits = [lst.tolist() for lst in np.array_split(list(users[users['Cluster'] == 1].index), 6)]\n",
    "# cluster_2_splits = [lst.tolist() for lst in np.array_split(list(users[users['Cluster'] == 2].index), 6)]"
   ]
  },
  {
   "cell_type": "code",
   "execution_count": 444,
   "metadata": {},
   "outputs": [],
   "source": [
    "teams = []\n",
    "for i in range(6):\n",
    "    team = []\n",
    "    for split in cluster_splits:\n",
    "        team += split[i]\n",
    "    teams.append(team)\n",
    "# for split_0, split_1, split_2 in cluster:\n",
    "#     teams.append(split_0 + split_1 + split_2)"
   ]
  },
  {
   "cell_type": "code",
   "execution_count": 448,
   "metadata": {},
   "outputs": [],
   "source": [
    "for ind, team in enumerate(teams):\n",
    "    report.loc[report['User'].isin(team), 'Team from Clustering'] = ind + 1"
   ]
  },
  {
   "cell_type": "code",
   "execution_count": 449,
   "metadata": {},
   "outputs": [
    {
     "data": {
      "text/html": [
       "<div>\n",
       "<style scoped>\n",
       "    .dataframe tbody tr th:only-of-type {\n",
       "        vertical-align: middle;\n",
       "    }\n",
       "\n",
       "    .dataframe tbody tr th {\n",
       "        vertical-align: top;\n",
       "    }\n",
       "\n",
       "    .dataframe thead th {\n",
       "        text-align: right;\n",
       "    }\n",
       "</style>\n",
       "<table border=\"1\" class=\"dataframe\">\n",
       "  <thead>\n",
       "    <tr style=\"text-align: right;\">\n",
       "      <th></th>\n",
       "      <th>Date</th>\n",
       "      <th>User</th>\n",
       "      <th>Client</th>\n",
       "      <th>Project</th>\n",
       "      <th>Project stage</th>\n",
       "      <th>Booking type</th>\n",
       "      <th>Booking</th>\n",
       "      <th>User Job code</th>\n",
       "      <th>User Active</th>\n",
       "      <th>User Department</th>\n",
       "      <th>...</th>\n",
       "      <th>User User location</th>\n",
       "      <th>Client Client Industry</th>\n",
       "      <th>Project End Date</th>\n",
       "      <th>Project Project Location</th>\n",
       "      <th>Booking Notes</th>\n",
       "      <th>Booking End Date</th>\n",
       "      <th>Booking Start Date</th>\n",
       "      <th>All booked hours</th>\n",
       "      <th>Months</th>\n",
       "      <th>Team from Clustering</th>\n",
       "    </tr>\n",
       "  </thead>\n",
       "  <tbody>\n",
       "    <tr>\n",
       "      <th>0</th>\n",
       "      <td>2021-01-03</td>\n",
       "      <td>Abbas, Hadiqa</td>\n",
       "      <td>Novant Health, Inc.</td>\n",
       "      <td>Provider Solutions</td>\n",
       "      <td>In Progress</td>\n",
       "      <td>Confirmed</td>\n",
       "      <td>08/12/2021 to 10/11/2021 for 100% of the time</td>\n",
       "      <td>Senior Consultant</td>\n",
       "      <td>Yes</td>\n",
       "      <td>Field</td>\n",
       "      <td>...</td>\n",
       "      <td>Chicago</td>\n",
       "      <td>Healthcare - Provider</td>\n",
       "      <td>2021-10-11</td>\n",
       "      <td>North Carolina</td>\n",
       "      <td>NaN</td>\n",
       "      <td>2021-10-11</td>\n",
       "      <td>2021-08-12</td>\n",
       "      <td>0.0</td>\n",
       "      <td>January</td>\n",
       "      <td>2.0</td>\n",
       "    </tr>\n",
       "    <tr>\n",
       "      <th>1</th>\n",
       "      <td>2021-01-10</td>\n",
       "      <td>Abbas, Hadiqa</td>\n",
       "      <td>Novant Health, Inc.</td>\n",
       "      <td>Provider Solutions</td>\n",
       "      <td>In Progress</td>\n",
       "      <td>Confirmed</td>\n",
       "      <td>08/12/2021 to 10/11/2021 for 100% of the time</td>\n",
       "      <td>Senior Consultant</td>\n",
       "      <td>Yes</td>\n",
       "      <td>Field</td>\n",
       "      <td>...</td>\n",
       "      <td>Chicago</td>\n",
       "      <td>Healthcare - Provider</td>\n",
       "      <td>2021-10-11</td>\n",
       "      <td>North Carolina</td>\n",
       "      <td>NaN</td>\n",
       "      <td>2021-10-11</td>\n",
       "      <td>2021-08-12</td>\n",
       "      <td>0.0</td>\n",
       "      <td>January</td>\n",
       "      <td>2.0</td>\n",
       "    </tr>\n",
       "    <tr>\n",
       "      <th>2</th>\n",
       "      <td>2021-01-17</td>\n",
       "      <td>Abbas, Hadiqa</td>\n",
       "      <td>Novant Health, Inc.</td>\n",
       "      <td>Provider Solutions</td>\n",
       "      <td>In Progress</td>\n",
       "      <td>Confirmed</td>\n",
       "      <td>08/12/2021 to 10/11/2021 for 100% of the time</td>\n",
       "      <td>Senior Consultant</td>\n",
       "      <td>Yes</td>\n",
       "      <td>Field</td>\n",
       "      <td>...</td>\n",
       "      <td>Chicago</td>\n",
       "      <td>Healthcare - Provider</td>\n",
       "      <td>2021-10-11</td>\n",
       "      <td>North Carolina</td>\n",
       "      <td>NaN</td>\n",
       "      <td>2021-10-11</td>\n",
       "      <td>2021-08-12</td>\n",
       "      <td>0.0</td>\n",
       "      <td>January</td>\n",
       "      <td>2.0</td>\n",
       "    </tr>\n",
       "    <tr>\n",
       "      <th>3</th>\n",
       "      <td>2021-01-24</td>\n",
       "      <td>Abbas, Hadiqa</td>\n",
       "      <td>Novant Health, Inc.</td>\n",
       "      <td>Provider Solutions</td>\n",
       "      <td>In Progress</td>\n",
       "      <td>Confirmed</td>\n",
       "      <td>08/12/2021 to 10/11/2021 for 100% of the time</td>\n",
       "      <td>Senior Consultant</td>\n",
       "      <td>Yes</td>\n",
       "      <td>Field</td>\n",
       "      <td>...</td>\n",
       "      <td>Chicago</td>\n",
       "      <td>Healthcare - Provider</td>\n",
       "      <td>2021-10-11</td>\n",
       "      <td>North Carolina</td>\n",
       "      <td>NaN</td>\n",
       "      <td>2021-10-11</td>\n",
       "      <td>2021-08-12</td>\n",
       "      <td>0.0</td>\n",
       "      <td>January</td>\n",
       "      <td>2.0</td>\n",
       "    </tr>\n",
       "    <tr>\n",
       "      <th>4</th>\n",
       "      <td>2021-01-31</td>\n",
       "      <td>Abbas, Hadiqa</td>\n",
       "      <td>Novant Health, Inc.</td>\n",
       "      <td>Provider Solutions</td>\n",
       "      <td>In Progress</td>\n",
       "      <td>Confirmed</td>\n",
       "      <td>08/12/2021 to 10/11/2021 for 100% of the time</td>\n",
       "      <td>Senior Consultant</td>\n",
       "      <td>Yes</td>\n",
       "      <td>Field</td>\n",
       "      <td>...</td>\n",
       "      <td>Chicago</td>\n",
       "      <td>Healthcare - Provider</td>\n",
       "      <td>2021-10-11</td>\n",
       "      <td>North Carolina</td>\n",
       "      <td>NaN</td>\n",
       "      <td>2021-10-11</td>\n",
       "      <td>2021-08-12</td>\n",
       "      <td>0.0</td>\n",
       "      <td>January</td>\n",
       "      <td>2.0</td>\n",
       "    </tr>\n",
       "    <tr>\n",
       "      <th>...</th>\n",
       "      <td>...</td>\n",
       "      <td>...</td>\n",
       "      <td>...</td>\n",
       "      <td>...</td>\n",
       "      <td>...</td>\n",
       "      <td>...</td>\n",
       "      <td>...</td>\n",
       "      <td>...</td>\n",
       "      <td>...</td>\n",
       "      <td>...</td>\n",
       "      <td>...</td>\n",
       "      <td>...</td>\n",
       "      <td>...</td>\n",
       "      <td>...</td>\n",
       "      <td>...</td>\n",
       "      <td>...</td>\n",
       "      <td>...</td>\n",
       "      <td>...</td>\n",
       "      <td>...</td>\n",
       "      <td>...</td>\n",
       "      <td>...</td>\n",
       "    </tr>\n",
       "    <tr>\n",
       "      <th>39275</th>\n",
       "      <td>2021-09-05</td>\n",
       "      <td>Zhou, Wei</td>\n",
       "      <td>Centene</td>\n",
       "      <td>Vendor Risk Assessment</td>\n",
       "      <td>In Progress</td>\n",
       "      <td>Confirmed</td>\n",
       "      <td>06/07/2021 to 09/08/2021 for 100% of the time</td>\n",
       "      <td>Analyst</td>\n",
       "      <td>Yes</td>\n",
       "      <td>Field</td>\n",
       "      <td>...</td>\n",
       "      <td>New York City</td>\n",
       "      <td>Healthcare - Payor</td>\n",
       "      <td>2021-11-19</td>\n",
       "      <td>Missouri</td>\n",
       "      <td>NaN</td>\n",
       "      <td>2021-09-08</td>\n",
       "      <td>2021-06-07</td>\n",
       "      <td>16.0</td>\n",
       "      <td>September</td>\n",
       "      <td>5.0</td>\n",
       "    </tr>\n",
       "    <tr>\n",
       "      <th>39276</th>\n",
       "      <td>2021-09-12</td>\n",
       "      <td>Zhou, Wei</td>\n",
       "      <td>Centene</td>\n",
       "      <td>Vendor Risk Assessment</td>\n",
       "      <td>In Progress</td>\n",
       "      <td>Confirmed</td>\n",
       "      <td>06/07/2021 to 09/08/2021 for 100% of the time</td>\n",
       "      <td>Analyst</td>\n",
       "      <td>Yes</td>\n",
       "      <td>Field</td>\n",
       "      <td>...</td>\n",
       "      <td>New York City</td>\n",
       "      <td>Healthcare - Payor</td>\n",
       "      <td>2021-11-19</td>\n",
       "      <td>Missouri</td>\n",
       "      <td>NaN</td>\n",
       "      <td>2021-09-08</td>\n",
       "      <td>2021-06-07</td>\n",
       "      <td>0.0</td>\n",
       "      <td>September</td>\n",
       "      <td>5.0</td>\n",
       "    </tr>\n",
       "    <tr>\n",
       "      <th>39277</th>\n",
       "      <td>2021-09-19</td>\n",
       "      <td>Zhou, Wei</td>\n",
       "      <td>Centene</td>\n",
       "      <td>Vendor Risk Assessment</td>\n",
       "      <td>In Progress</td>\n",
       "      <td>Confirmed</td>\n",
       "      <td>06/07/2021 to 09/08/2021 for 100% of the time</td>\n",
       "      <td>Analyst</td>\n",
       "      <td>Yes</td>\n",
       "      <td>Field</td>\n",
       "      <td>...</td>\n",
       "      <td>New York City</td>\n",
       "      <td>Healthcare - Payor</td>\n",
       "      <td>2021-11-19</td>\n",
       "      <td>Missouri</td>\n",
       "      <td>NaN</td>\n",
       "      <td>2021-09-08</td>\n",
       "      <td>2021-06-07</td>\n",
       "      <td>0.0</td>\n",
       "      <td>September</td>\n",
       "      <td>5.0</td>\n",
       "    </tr>\n",
       "    <tr>\n",
       "      <th>39278</th>\n",
       "      <td>2021-09-26</td>\n",
       "      <td>Zhou, Wei</td>\n",
       "      <td>Centene</td>\n",
       "      <td>Vendor Risk Assessment</td>\n",
       "      <td>In Progress</td>\n",
       "      <td>Confirmed</td>\n",
       "      <td>06/07/2021 to 09/08/2021 for 100% of the time</td>\n",
       "      <td>Analyst</td>\n",
       "      <td>Yes</td>\n",
       "      <td>Field</td>\n",
       "      <td>...</td>\n",
       "      <td>New York City</td>\n",
       "      <td>Healthcare - Payor</td>\n",
       "      <td>2021-11-19</td>\n",
       "      <td>Missouri</td>\n",
       "      <td>NaN</td>\n",
       "      <td>2021-09-08</td>\n",
       "      <td>2021-06-07</td>\n",
       "      <td>0.0</td>\n",
       "      <td>September</td>\n",
       "      <td>5.0</td>\n",
       "    </tr>\n",
       "    <tr>\n",
       "      <th>39279</th>\n",
       "      <td>2021-10-03</td>\n",
       "      <td>Zhou, Wei</td>\n",
       "      <td>Centene</td>\n",
       "      <td>Vendor Risk Assessment</td>\n",
       "      <td>In Progress</td>\n",
       "      <td>Confirmed</td>\n",
       "      <td>06/07/2021 to 09/08/2021 for 100% of the time</td>\n",
       "      <td>Analyst</td>\n",
       "      <td>Yes</td>\n",
       "      <td>Field</td>\n",
       "      <td>...</td>\n",
       "      <td>New York City</td>\n",
       "      <td>Healthcare - Payor</td>\n",
       "      <td>2021-11-19</td>\n",
       "      <td>Missouri</td>\n",
       "      <td>NaN</td>\n",
       "      <td>2021-09-08</td>\n",
       "      <td>2021-06-07</td>\n",
       "      <td>0.0</td>\n",
       "      <td>October</td>\n",
       "      <td>5.0</td>\n",
       "    </tr>\n",
       "  </tbody>\n",
       "</table>\n",
       "<p>39280 rows × 21 columns</p>\n",
       "</div>"
      ],
      "text/plain": [
       "            Date           User               Client                 Project  \\\n",
       "0     2021-01-03  Abbas, Hadiqa  Novant Health, Inc.      Provider Solutions   \n",
       "1     2021-01-10  Abbas, Hadiqa  Novant Health, Inc.      Provider Solutions   \n",
       "2     2021-01-17  Abbas, Hadiqa  Novant Health, Inc.      Provider Solutions   \n",
       "3     2021-01-24  Abbas, Hadiqa  Novant Health, Inc.      Provider Solutions   \n",
       "4     2021-01-31  Abbas, Hadiqa  Novant Health, Inc.      Provider Solutions   \n",
       "...          ...            ...                  ...                     ...   \n",
       "39275 2021-09-05      Zhou, Wei              Centene  Vendor Risk Assessment   \n",
       "39276 2021-09-12      Zhou, Wei              Centene  Vendor Risk Assessment   \n",
       "39277 2021-09-19      Zhou, Wei              Centene  Vendor Risk Assessment   \n",
       "39278 2021-09-26      Zhou, Wei              Centene  Vendor Risk Assessment   \n",
       "39279 2021-10-03      Zhou, Wei              Centene  Vendor Risk Assessment   \n",
       "\n",
       "      Project stage Booking type  \\\n",
       "0       In Progress    Confirmed   \n",
       "1       In Progress    Confirmed   \n",
       "2       In Progress    Confirmed   \n",
       "3       In Progress    Confirmed   \n",
       "4       In Progress    Confirmed   \n",
       "...             ...          ...   \n",
       "39275   In Progress    Confirmed   \n",
       "39276   In Progress    Confirmed   \n",
       "39277   In Progress    Confirmed   \n",
       "39278   In Progress    Confirmed   \n",
       "39279   In Progress    Confirmed   \n",
       "\n",
       "                                              Booking      User Job code  \\\n",
       "0       08/12/2021 to 10/11/2021 for 100% of the time  Senior Consultant   \n",
       "1       08/12/2021 to 10/11/2021 for 100% of the time  Senior Consultant   \n",
       "2       08/12/2021 to 10/11/2021 for 100% of the time  Senior Consultant   \n",
       "3       08/12/2021 to 10/11/2021 for 100% of the time  Senior Consultant   \n",
       "4       08/12/2021 to 10/11/2021 for 100% of the time  Senior Consultant   \n",
       "...                                               ...                ...   \n",
       "39275   06/07/2021 to 09/08/2021 for 100% of the time            Analyst   \n",
       "39276   06/07/2021 to 09/08/2021 for 100% of the time            Analyst   \n",
       "39277   06/07/2021 to 09/08/2021 for 100% of the time            Analyst   \n",
       "39278   06/07/2021 to 09/08/2021 for 100% of the time            Analyst   \n",
       "39279   06/07/2021 to 09/08/2021 for 100% of the time            Analyst   \n",
       "\n",
       "      User Active User Department  ... User User location  \\\n",
       "0             Yes           Field  ...            Chicago   \n",
       "1             Yes           Field  ...            Chicago   \n",
       "2             Yes           Field  ...            Chicago   \n",
       "3             Yes           Field  ...            Chicago   \n",
       "4             Yes           Field  ...            Chicago   \n",
       "...           ...             ...  ...                ...   \n",
       "39275         Yes           Field  ...      New York City   \n",
       "39276         Yes           Field  ...      New York City   \n",
       "39277         Yes           Field  ...      New York City   \n",
       "39278         Yes           Field  ...      New York City   \n",
       "39279         Yes           Field  ...      New York City   \n",
       "\n",
       "      Client Client Industry Project End Date Project Project Location  \\\n",
       "0      Healthcare - Provider       2021-10-11          North Carolina    \n",
       "1      Healthcare - Provider       2021-10-11          North Carolina    \n",
       "2      Healthcare - Provider       2021-10-11          North Carolina    \n",
       "3      Healthcare - Provider       2021-10-11          North Carolina    \n",
       "4      Healthcare - Provider       2021-10-11          North Carolina    \n",
       "...                      ...              ...                      ...   \n",
       "39275     Healthcare - Payor       2021-11-19                Missouri    \n",
       "39276     Healthcare - Payor       2021-11-19                Missouri    \n",
       "39277     Healthcare - Payor       2021-11-19                Missouri    \n",
       "39278     Healthcare - Payor       2021-11-19                Missouri    \n",
       "39279     Healthcare - Payor       2021-11-19                Missouri    \n",
       "\n",
       "      Booking Notes Booking End Date Booking Start Date All booked hours  \\\n",
       "0               NaN       2021-10-11         2021-08-12              0.0   \n",
       "1               NaN       2021-10-11         2021-08-12              0.0   \n",
       "2               NaN       2021-10-11         2021-08-12              0.0   \n",
       "3               NaN       2021-10-11         2021-08-12              0.0   \n",
       "4               NaN       2021-10-11         2021-08-12              0.0   \n",
       "...             ...              ...                ...              ...   \n",
       "39275           NaN       2021-09-08         2021-06-07             16.0   \n",
       "39276           NaN       2021-09-08         2021-06-07              0.0   \n",
       "39277           NaN       2021-09-08         2021-06-07              0.0   \n",
       "39278           NaN       2021-09-08         2021-06-07              0.0   \n",
       "39279           NaN       2021-09-08         2021-06-07              0.0   \n",
       "\n",
       "          Months Team from Clustering  \n",
       "0        January                  2.0  \n",
       "1        January                  2.0  \n",
       "2        January                  2.0  \n",
       "3        January                  2.0  \n",
       "4        January                  2.0  \n",
       "...          ...                  ...  \n",
       "39275  September                  5.0  \n",
       "39276  September                  5.0  \n",
       "39277  September                  5.0  \n",
       "39278  September                  5.0  \n",
       "39279    October                  5.0  \n",
       "\n",
       "[39280 rows x 21 columns]"
      ]
     },
     "execution_count": 449,
     "metadata": {},
     "output_type": "execute_result"
    }
   ],
   "source": [
    "report"
   ]
  },
  {
   "cell_type": "code",
   "execution_count": 450,
   "metadata": {},
   "outputs": [],
   "source": [
    "report.to_excel('assignments.xlsx', index=False)"
   ]
  }
 ],
 "metadata": {
  "kernelspec": {
   "display_name": "Python 3",
   "language": "python",
   "name": "python3"
  },
  "language_info": {
   "codemirror_mode": {
    "name": "ipython",
    "version": 3
   },
   "file_extension": ".py",
   "mimetype": "text/x-python",
   "name": "python",
   "nbconvert_exporter": "python",
   "pygments_lexer": "ipython3",
   "version": "3.8.3"
  }
 },
 "nbformat": 4,
 "nbformat_minor": 4
}
