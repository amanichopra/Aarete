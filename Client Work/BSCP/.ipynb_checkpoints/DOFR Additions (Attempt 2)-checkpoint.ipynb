{
 "cells": [
  {
   "cell_type": "markdown",
   "metadata": {},
   "source": [
    "Let's first write the additions list to SQL."
   ]
  },
  {
   "cell_type": "code",
   "execution_count": 12,
   "metadata": {},
   "outputs": [],
   "source": [
    "import sqlalchemy\n",
    "from urllib.parse import quote_plus\n",
    "import pandas as pd"
   ]
  },
  {
   "cell_type": "code",
   "execution_count": 2,
   "metadata": {},
   "outputs": [
    {
     "name": "stdout",
     "output_type": "stream",
     "text": [
      "<class 'pandas.core.frame.DataFrame'>\n",
      "RangeIndex: 7550 entries, 0 to 7549\n",
      "Data columns (total 4 columns):\n",
      " #   Column     Non-Null Count  Dtype \n",
      "---  ------     --------------  ----- \n",
      " 0   DOFR ID    7550 non-null   int64 \n",
      " 1   IPA ID     7550 non-null   object\n",
      " 2   Serv_Cat   7550 non-null   object\n",
      " 3   In Matrix  7550 non-null   object\n",
      "dtypes: int64(1), object(3)\n",
      "memory usage: 236.1+ KB\n"
     ]
    }
   ],
   "source": [
    "additions_list = pd.read_excel(r'T:\\AArete Client Work\\Blue Cross Blue Shield CA (Promise Health Plan)\\Restricted\\3_CoHC_Support\\Mike S\\DOFR Review\\DOFR_Matrix_Additions_20210910.xlsx', sheet_name='Final List Additions')\n",
    "additions_list.info()"
   ]
  },
  {
   "cell_type": "code",
   "execution_count": 3,
   "metadata": {},
   "outputs": [],
   "source": [
    "additions_list = additions_list.drop(columns=['In Matrix'])"
   ]
  },
  {
   "cell_type": "code",
   "execution_count": 16,
   "metadata": {},
   "outputs": [],
   "source": [
    "conn = ('Driver={SQL Server};'\n",
    "                          'Server=AARSVRSQL;'\n",
    "                          'Database=BSCP_DW;'\n",
    "                          'Trusted_Connection=yes;')\n",
    "engine = sqlalchemy.create_engine(f'mssql+pyodbc:///?odbc_connect={quote_plus(conn)}')\n",
    "\n",
    "additions_list.to_sql('DOFRListAdditions', if_exists='replace', con=engine, schema='TMP', index=False)"
   ]
  },
  {
   "cell_type": "markdown",
   "metadata": {},
   "source": [
    "Now, we can test the inner joins with DOFR matrix."
   ]
  },
  {
   "cell_type": "code",
   "execution_count": 22,
   "metadata": {},
   "outputs": [
    {
     "data": {
      "text/html": [
       "<div>\n",
       "<style scoped>\n",
       "    .dataframe tbody tr th:only-of-type {\n",
       "        vertical-align: middle;\n",
       "    }\n",
       "\n",
       "    .dataframe tbody tr th {\n",
       "        vertical-align: top;\n",
       "    }\n",
       "\n",
       "    .dataframe thead th {\n",
       "        text-align: right;\n",
       "    }\n",
       "</style>\n",
       "<table border=\"1\" class=\"dataframe\">\n",
       "  <thead>\n",
       "    <tr style=\"text-align: right;\">\n",
       "      <th></th>\n",
       "      <th>DOFR_ID</th>\n",
       "      <th>IPA_ID</th>\n",
       "      <th>IPA_Name</th>\n",
       "      <th>Serv_Cat</th>\n",
       "      <th>Serv_Cat_Rules</th>\n",
       "      <th>Claim_Type</th>\n",
       "      <th>In_Area_Indicator</th>\n",
       "      <th>Place_of_Service</th>\n",
       "      <th>Bill_Type</th>\n",
       "      <th>Procedure_Code</th>\n",
       "      <th>...</th>\n",
       "      <th>Provider_Type</th>\n",
       "      <th>Diagnosis_Code</th>\n",
       "      <th>Modifier</th>\n",
       "      <th>Hospital_Procedure_Code</th>\n",
       "      <th>Provider_Special_Services</th>\n",
       "      <th>LOAD_DT</th>\n",
       "      <th>LOAD_BY</th>\n",
       "      <th>REQUESTED_BY</th>\n",
       "      <th>SOURCE_FILE_NAME</th>\n",
       "      <th>UNIQUE_LINE_KEY</th>\n",
       "    </tr>\n",
       "  </thead>\n",
       "  <tbody>\n",
       "    <tr>\n",
       "      <th>0</th>\n",
       "      <td>200000000003</td>\n",
       "      <td>IP0C00000110</td>\n",
       "      <td>HEALTH CARE LA, IPA</td>\n",
       "      <td>CXP0065:1:1</td>\n",
       "      <td>Claim Type H, In Area Ind Y, Ln Rev 560</td>\n",
       "      <td>H</td>\n",
       "      <td>I</td>\n",
       "      <td>NULL</td>\n",
       "      <td>NULL</td>\n",
       "      <td>NULL</td>\n",
       "      <td>...</td>\n",
       "      <td>NULL</td>\n",
       "      <td>NULL</td>\n",
       "      <td>NULL</td>\n",
       "      <td>NULL</td>\n",
       "      <td>NULL</td>\n",
       "      <td>2021-08-16 17:00:07</td>\n",
       "      <td>AARETE\\tknapik</td>\n",
       "      <td>Michael Simpson</td>\n",
       "      <td>\\\\aarsvrsql\\Import\\BSCP_DW\\20210803\\AAR_DOFR_M...</td>\n",
       "      <td>31627</td>\n",
       "    </tr>\n",
       "  </tbody>\n",
       "</table>\n",
       "<p>1 rows × 22 columns</p>\n",
       "</div>"
      ],
      "text/plain": [
       "        DOFR_ID        IPA_ID             IPA_Name     Serv_Cat  \\\n",
       "0  200000000003  IP0C00000110  HEALTH CARE LA, IPA  CXP0065:1:1   \n",
       "\n",
       "                            Serv_Cat_Rules Claim_Type In_Area_Indicator  \\\n",
       "0  Claim Type H, In Area Ind Y, Ln Rev 560          H                 I   \n",
       "\n",
       "  Place_of_Service Bill_Type Procedure_Code  ... Provider_Type Diagnosis_Code  \\\n",
       "0             NULL      NULL          NULL   ...          NULL           NULL   \n",
       "\n",
       "  Modifier Hospital_Procedure_Code Provider_Special_Services  \\\n",
       "0     NULL                    NULL                      NULL   \n",
       "\n",
       "              LOAD_DT         LOAD_BY     REQUESTED_BY  \\\n",
       "0 2021-08-16 17:00:07  AARETE\\tknapik  Michael Simpson   \n",
       "\n",
       "                                    SOURCE_FILE_NAME UNIQUE_LINE_KEY  \n",
       "0  \\\\aarsvrsql\\Import\\BSCP_DW\\20210803\\AAR_DOFR_M...           31627  \n",
       "\n",
       "[1 rows x 22 columns]"
      ]
     },
     "execution_count": 22,
     "metadata": {},
     "output_type": "execute_result"
    }
   ],
   "source": [
    "dofr_mat = pd.read_sql(\"SELECT * FROM BSCP_DW.TMP.CompleteDOFRMatrix WHERE Serv_Cat = 'CXP0065:1:1'\", con=engine)\n",
    "dofr_mat"
   ]
  },
  {
   "cell_type": "code",
   "execution_count": null,
   "metadata": {},
   "outputs": [],
   "source": []
  }
 ],
 "metadata": {
  "kernelspec": {
   "display_name": "Python 3",
   "language": "python",
   "name": "python3"
  },
  "language_info": {
   "codemirror_mode": {
    "name": "ipython",
    "version": 3
   },
   "file_extension": ".py",
   "mimetype": "text/x-python",
   "name": "python",
   "nbconvert_exporter": "python",
   "pygments_lexer": "ipython3",
   "version": "3.8.3"
  }
 },
 "nbformat": 4,
 "nbformat_minor": 4
}
