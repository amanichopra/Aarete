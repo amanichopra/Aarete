{
 "cells": [
  {
   "cell_type": "code",
   "execution_count": 1,
   "metadata": {},
   "outputs": [],
   "source": [
    "import pyodbc\n",
    "import pandas as pd"
   ]
  },
  {
   "cell_type": "code",
   "execution_count": null,
   "metadata": {},
   "outputs": [],
   "source": [
    "conn = pyodbc.connect('Driver={SQL Server};'\n",
    "                      'Server=AARSVRSQL;'\n",
    "                      'Database=MOH_DW;'\n",
    "                      'Trusted_Connection=yes;')\n",
    "\n",
    "\n",
    "query = '''FROM PHI.DIM_CLAIM_HEADER AS DCH --CLAIM HEADER LEVEL DATA\n",
    "    INNER JOIN PHI.FACT_CLAIM_LINE AS FCL --CLAIM LINE LEVEL MEASURES\n",
    "        ON FCL.CLAIM_SID = DCH.CLAIM_SID\n",
    "    INNER JOIN PHI.DIM_CLAIM_LINE AS DCL --CLAIM LINE LEVEL ATTRIBUTES\n",
    "        ON FCL.CLAIM_LINE_SID = DCL.CLAIM_LINE_SID\n",
    "    INNER JOIN PHI.DIM_PLAN AS PLN --PLAN JOIN\n",
    "        ON FCL.PLAN_SID = PLN.PLAN_SID\n",
    "    INNER JOIN PHI.DIM_MEMBER AS MBR --MEMBER JOIN\n",
    "        ON FCL.MEMBER_SID = MBR.MEMBER_SID\n",
    "    LEFT JOIN PHI.DIM_ELIGIBILITY AS ELG --ELIGIBILITY JOIN\n",
    "        ON FCL.ELIGIBILITY_SID = ELG.ELIGIBILITY_SID\n",
    "    INNER JOIN PHI.DIM_PROVIDER AS RND --RENDERING PROVIDER JOIN\n",
    "        ON FCL.PROV_RENDERING_SID = RND.PROVIDER_SID\n",
    "    INNER JOIN PHI.DIM_PROVIDER AS REF --REFERRING PROVIDER JOIN\n",
    "        ON FCL.PROV_REFERRING_SID = REF.PROVIDER_SID\n",
    "    INNER JOIN PHI.DIM_PROVIDER AS BIL --BILLING PROVIDER JOIN\n",
    "        ON FCL.PROV_BILLING_SID = BIL.PROVIDER_SID\n",
    "    INNER JOIN PHI.DIM_PROVIDER AS PCP --PCP PROVIDER JOIN\n",
    "        ON FCL.PROV_PCP_SID = PCP.PROVIDER_SID\n",
    "    INNER JOIN PHI.DIM_AARETE AS AAR --AARETE JOIN\n",
    "        ON FCL.CLAIM_LINE_SID = AAR.CLAIM_LINE_SID\n",
    "    INNER JOIN PHI.DIM_CPT4 AS CPT --CPT PROCEDURE CODE JOIN\n",
    "        ON FCL.CPT4_SID = CPT.CPT4_SID\n",
    "    INNER JOIN PHI.DIM_DIAG AS CLD --ICD DIAGNOSIS CODE JOIN\n",
    "        ON FCL.DIAG_SID = CLD.DIAG_SID\n",
    "    INNER JOIN PHI.DIM_PROC AS CLP --ICD PROCEDURE CODE JOIN\n",
    "        ON FCL.PROC_SID = CLP.PROC_SID\n",
    "    INNER JOIN DW.DIM_UNMAPPED DUM\n",
    "        ON DUM.CLAIM_LINE_SID = FCL.CLAIM_LINE_SID'''\n",
    "dofr_mat = pd.read_sql('SELECT TOP(100) * FROM MOH.TMP.CompleteDOFRMatrix', con=conn)"
   ]
  }
 ],
 "metadata": {
  "kernelspec": {
   "display_name": "Python 3",
   "language": "python",
   "name": "python3"
  },
  "language_info": {
   "codemirror_mode": {
    "name": "ipython",
    "version": 3
   },
   "file_extension": ".py",
   "mimetype": "text/x-python",
   "name": "python",
   "nbconvert_exporter": "python",
   "pygments_lexer": "ipython3",
   "version": "3.8.3"
  }
 },
 "nbformat": 4,
 "nbformat_minor": 4
}
