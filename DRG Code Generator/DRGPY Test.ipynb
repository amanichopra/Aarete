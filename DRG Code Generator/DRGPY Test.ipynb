{
 "cells": [
  {
   "cell_type": "code",
   "execution_count": 58,
   "metadata": {},
   "outputs": [],
   "source": [
    "from drgpy.msdrg import DRGEngine\n",
    "de = DRGEngine()"
   ]
  },
  {
   "cell_type": "code",
   "execution_count": 3,
   "metadata": {},
   "outputs": [
    {
     "name": "stdout",
     "output_type": "stream",
     "text": [
      "\n",
      "        Return the corresponding DRG code for the diagnoses and procedures\n",
      "\n",
      "        Parameters\n",
      "        ----------\n",
      "        dx_lst : list\n",
      "                A list of ICD-10 diagnosis codes\n",
      "        pr_lst : list\n",
      "                A list of ICD-10 procedure codes\n",
      "        \n"
     ]
    }
   ],
   "source": [
    "print(de.get_drg.__doc__)"
   ]
  },
  {
   "cell_type": "code",
   "execution_count": 82,
   "metadata": {},
   "outputs": [],
   "source": [
    "import numpy as np"
   ]
  },
  {
   "cell_type": "code",
   "execution_count": 86,
   "metadata": {},
   "outputs": [
    {
     "data": {
      "text/plain": [
       "(74811,)"
      ]
     },
     "execution_count": 86,
     "metadata": {},
     "output_type": "execute_result"
    }
   ],
   "source": [
    "diag_codes = []\n",
    "\n",
    "with open('/Users/amanchopra/Documents/Work/Aarete/DRG Code Generator/diag_codes.txt') as f:\n",
    "    for line in f:\n",
    "        code = line.strip().split(' ')[0]\n",
    "        if code and code[0].isalpha():\n",
    "            diag_codes.append(code)\n",
    "\n",
    "diag_codes = np.array(diag_codes)\n",
    "diag_codes.shape"
   ]
  },
  {
   "cell_type": "code",
   "execution_count": 87,
   "metadata": {},
   "outputs": [
    {
     "data": {
      "text/plain": [
       "(57039,)"
      ]
     },
     "execution_count": 87,
     "metadata": {},
     "output_type": "execute_result"
    }
   ],
   "source": [
    "proc_codes = []\n",
    "\n",
    "with open('/Users/amanchopra/Documents/Work/Aarete/DRG Code Generator/proc_codes.txt') as f:\n",
    "    for line in f:\n",
    "        line = line.strip()\n",
    "        code = line.split(' ')[0]\n",
    "        \n",
    "        if code and code[0] == '0' and len(code) > 3:\n",
    "            proc_codes.append(code)\n",
    "\n",
    "proc_codes = np.array(proc_codes)\n",
    "proc_codes.shape"
   ]
  }
 ],
 "metadata": {
  "kernelspec": {
   "display_name": "Python 3",
   "language": "python",
   "name": "python3"
  },
  "language_info": {
   "codemirror_mode": {
    "name": "ipython",
    "version": 3
   },
   "file_extension": ".py",
   "mimetype": "text/x-python",
   "name": "python",
   "nbconvert_exporter": "python",
   "pygments_lexer": "ipython3",
   "version": "3.8.3"
  }
 },
 "nbformat": 4,
 "nbformat_minor": 4
}
