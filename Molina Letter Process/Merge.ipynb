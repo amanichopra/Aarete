{
  "nbformat": 4,
  "nbformat_minor": 0,
  "metadata": {
    "colab": {
      "name": "Merge",
      "provenance": [],
      "collapsed_sections": []
    },
    "kernelspec": {
      "name": "python3",
      "display_name": "Python 3"
    },
    "language_info": {
      "name": "python"
    }
  },
  "cells": [
    {
      "cell_type": "markdown",
      "metadata": {
        "id": "NMRaNhMsXUgt"
      },
      "source": [
        "**Load Tables**"
      ]
    },
    {
      "cell_type": "code",
      "metadata": {
        "colab": {
          "base_uri": "https://localhost:8080/"
        },
        "id": "nAW3RcvwRt_d",
        "outputId": "0eef8524-0293-42c9-bd40-b6957e4beb4f"
      },
      "source": [
        "from google.colab import drive\n",
        "\n",
        "drive.mount('/content/gdrive')"
      ],
      "execution_count": null,
      "outputs": [
        {
          "output_type": "stream",
          "name": "stdout",
          "text": [
            "Mounted at /content/gdrive\n"
          ]
        }
      ]
    },
    {
      "cell_type": "code",
      "metadata": {
        "id": "MahQSG2SSVjZ"
      },
      "source": [
        "import pickle"
      ],
      "execution_count": null,
      "outputs": []
    },
    {
      "cell_type": "code",
      "metadata": {
        "colab": {
          "base_uri": "https://localhost:8080/"
        },
        "id": "zylE_JMfR2a5",
        "outputId": "e110b0d2-41c7-4dd1-a6cb-7c4887ba08df"
      },
      "source": [
        "with open('/content/gdrive/MyDrive/Work/Aarete (Fall 2021)/Molina Letters/tables_for_letter.pkl', 'rb') as f:\n",
        "  tables_for_letter = pickle.load(f)\n",
        "\n",
        "for table in tables_for_letter:\n",
        "  try:\n",
        "    table.iloc[19, 1] = int(table.iloc[19, 1]) # make zipcode int\n",
        "  except ValueError:\n",
        "    pass\n",
        "\n",
        "  for i in range(23, 37): # make datetime to readable format \n",
        "    try:\n",
        "      table.iloc[i, 1] = table.iloc[i, 1].strftime('%I:%M %p')\n",
        "    except AttributeError:\n",
        "      pass\n",
        "\n",
        "len(tables_for_letter)"
      ],
      "execution_count": null,
      "outputs": [
        {
          "output_type": "execute_result",
          "data": {
            "text/plain": [
              "429"
            ]
          },
          "metadata": {},
          "execution_count": 3
        }
      ]
    },
    {
      "cell_type": "code",
      "metadata": {
        "id": "16mfs6fRDy7i"
      },
      "source": [
        "for table in tables_for_letter:\n",
        "  # ensure all digits are integers\n",
        "  try:\n",
        "    table.iloc[20, 1] = int(table.iloc[20, 1])\n",
        "  except ValueError:\n",
        "    pass"
      ],
      "execution_count": null,
      "outputs": []
    },
    {
      "cell_type": "markdown",
      "metadata": {
        "id": "XSR6_HqWXcqE"
      },
      "source": [
        "**Merge Fields**"
      ]
    },
    {
      "cell_type": "code",
      "metadata": {
        "colab": {
          "base_uri": "https://localhost:8080/"
        },
        "id": "6d_T-wI2Qv1h",
        "outputId": "e6c9cf24-e159-4d80-f5f9-1b53f210f1ce"
      },
      "source": [
        "!pip install docx-mailmerge\n",
        "from mailmerge import MailMerge\n",
        "import datetime"
      ],
      "execution_count": null,
      "outputs": [
        {
          "output_type": "stream",
          "name": "stdout",
          "text": [
            "Collecting docx-mailmerge\n",
            "  Downloading docx_mailmerge-0.5.0-py2.py3-none-any.whl (9.2 kB)\n",
            "Requirement already satisfied: lxml in /usr/local/lib/python3.7/dist-packages (from docx-mailmerge) (4.2.6)\n",
            "Installing collected packages: docx-mailmerge\n",
            "Successfully installed docx-mailmerge-0.5.0\n"
          ]
        }
      ]
    },
    {
      "cell_type": "code",
      "metadata": {
        "id": "aIlaw3UrQxMx"
      },
      "source": [
        "date = str(datetime.date.today())\n",
        "\n",
        "for table in tables_for_letter:\n",
        "  letter = MailMerge('/content/gdrive/MyDrive/Work/Aarete (Fall 2021)/Molina Letters/Letter Template.docx')\n",
        "  first_name = table[table['Provider Data Fields'] == 'First_Name'].iloc[:,1].values[0]\n",
        "  last_name = table[table['Provider Data Fields'] == 'Last_Name/ Facility_Name'].iloc[:,1].values[0]\n",
        "  if first_name:\n",
        "    name = f'{first_name} {last_name}'\n",
        "  else:\n",
        "    name = last_name\n",
        "  npi = str(table.iloc[0, 1])\n",
        "  address = table[table['Provider Data Fields'] == 'Address'].iloc[:,1].values[0]\n",
        "  csz = f'{table[table[\"Provider Data Fields\"] == \"City\"].iloc[:,1].values[0]}, {table[table[\"Provider Data Fields\"] == \"State\"].iloc[:,1].values[0]} {table[table[\"Provider Data Fields\"] == \"ZIP\"].iloc[:,1].values[0]}'\n",
        "  letter.merge(Address=address, Name=name, Date=date, CSZ=csz)\n",
        "  letter.write(f'/content/gdrive/MyDrive/Work/Aarete (Fall 2021)/Molina Letters/Letters/{name}_{npi}_({address}, {csz}).docx')\n"
      ],
      "execution_count": null,
      "outputs": []
    },
    {
      "cell_type": "markdown",
      "metadata": {
        "id": "RlrsuYH_X0Eu"
      },
      "source": [
        "**Add Table**"
      ]
    },
    {
      "cell_type": "code",
      "metadata": {
        "colab": {
          "base_uri": "https://localhost:8080/"
        },
        "id": "Fh_zaweXX1dy",
        "outputId": "a4083f11-3733-4007-90e3-5037813f01f9"
      },
      "source": [
        "!pip install python-docx\n",
        "import docx\n",
        "import pandas as pd\n",
        "from glob import glob\n",
        "import numpy as np"
      ],
      "execution_count": null,
      "outputs": [
        {
          "output_type": "stream",
          "name": "stdout",
          "text": [
            "Collecting python-docx\n",
            "  Downloading python-docx-0.8.11.tar.gz (5.6 MB)\n",
            "\u001b[K     |████████████████████████████████| 5.6 MB 5.4 MB/s \n",
            "\u001b[?25hRequirement already satisfied: lxml>=2.3.2 in /usr/local/lib/python3.7/dist-packages (from python-docx) (4.2.6)\n",
            "Building wheels for collected packages: python-docx\n",
            "  Building wheel for python-docx (setup.py) ... \u001b[?25l\u001b[?25hdone\n",
            "  Created wheel for python-docx: filename=python_docx-0.8.11-py3-none-any.whl size=184508 sha256=5349b4c491cd50c013496d9f0608b37001310bde75ad162efd06f7127ba87f79\n",
            "  Stored in directory: /root/.cache/pip/wheels/f6/6f/b9/d798122a8b55b74ad30b5f52b01482169b445fbb84a11797a6\n",
            "Successfully built python-docx\n",
            "Installing collected packages: python-docx\n",
            "Successfully installed python-docx-0.8.11\n"
          ]
        }
      ]
    },
    {
      "cell_type": "code",
      "metadata": {
        "id": "kJTRQFxVX7cP"
      },
      "source": [
        "letters = glob('/content/gdrive/MyDrive/Work/Aarete (Fall 2021)/Molina Letters/Letters/*.docx')\n",
        "for table in tables_for_letter:\n",
        "  first_name = table[table['Provider Data Fields'] == 'First_Name'].iloc[:,1].values[0]\n",
        "  last_name = table[table['Provider Data Fields'] == 'Last_Name/ Facility_Name'].iloc[:,1].values[0]\n",
        "  if first_name:\n",
        "    name = f'{first_name} {last_name}'\n",
        "  else:\n",
        "    name = last_name\n",
        "  npi = str(table.iloc[0, 1])\n",
        "  \n",
        "  address = table[table['Provider Data Fields'] == 'Address'].iloc[:,1].values[0]\n",
        "  csz = f'{table[table[\"Provider Data Fields\"] == \"City\"].iloc[:,1].values[0]}, {table[table[\"Provider Data Fields\"] == \"State\"].iloc[:,1].values[0]} {table[table[\"Provider Data Fields\"] == \"ZIP\"].iloc[:,1].values[0]}'\n",
        "  filename = f'{name}_{npi}_({address}, {csz})'\n",
        "\n",
        "  try:\n",
        "    letter = [letter for letter in letters if filename in letter][0]\n",
        "  except IndexError:\n",
        "    continue\n",
        "  doc = docx.Document(letter)\n",
        "  doc.add_page_break()\n",
        "\n",
        "  # add a table to the end and create a reference variable\n",
        "  # extra row is so we can add the header row\n",
        "  t = doc.add_table(table.shape[0]+1, table.shape[1])\n",
        "  t.style = 'Table Grid'\n",
        "\n",
        "  # add the header rows.\n",
        "  for j in range(table.shape[-1]):\n",
        "      t.cell(0,j).text = table.columns[j]\n",
        "\n",
        "  # add the rest of the data frame\n",
        "  for i in range(table.shape[0]):\n",
        "      for j in range(table.shape[-1]):\n",
        "          t.cell(i+1,j).text = str(table.values[i,j])\n",
        "\n",
        "  # save the doc\n",
        "  doc.save(letter) \n"
      ],
      "execution_count": null,
      "outputs": []
    }
  ]
}