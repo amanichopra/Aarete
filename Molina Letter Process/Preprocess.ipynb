{
  "nbformat": 4,
  "nbformat_minor": 0,
  "metadata": {
    "kernelspec": {
      "display_name": "Python 3",
      "language": "python",
      "name": "python3"
    },
    "language_info": {
      "codemirror_mode": {
        "name": "ipython",
        "version": 3
      },
      "file_extension": ".py",
      "mimetype": "text/x-python",
      "name": "python",
      "nbconvert_exporter": "python",
      "pygments_lexer": "ipython3",
      "version": "3.8.3"
    },
    "colab": {
      "name": "Preprocess.ipynb",
      "provenance": [],
      "collapsed_sections": []
    }
  },
  "cells": [
    {
      "cell_type": "markdown",
      "metadata": {
        "id": "Dduzye2Etb5o"
      },
      "source": [
        "### Load Data"
      ]
    },
    {
      "cell_type": "code",
      "metadata": {
        "colab": {
          "base_uri": "https://localhost:8080/"
        },
        "id": "sZCt1ZGz-OeQ",
        "outputId": "0357ffe9-d6ab-4303-ce44-20bce7cd139d"
      },
      "source": [
        "from google.colab import drive\n",
        "\n",
        "drive.mount('/content/gdrive')"
      ],
      "execution_count": null,
      "outputs": [
        {
          "output_type": "stream",
          "name": "stdout",
          "text": [
            "Mounted at /content/gdrive\n"
          ]
        }
      ]
    },
    {
      "cell_type": "code",
      "metadata": {
        "colab": {
          "base_uri": "https://localhost:8080/"
        },
        "id": "dPakaU5--UrC",
        "outputId": "39a7a9a7-0130-400c-ee43-2d6807341803"
      },
      "source": [
        "%cd '/content/gdrive/MyDrive/Work/Aarete (Fall 2021)/Molina Letters'"
      ],
      "execution_count": null,
      "outputs": [
        {
          "output_type": "stream",
          "name": "stdout",
          "text": [
            "/content/gdrive/MyDrive/Work/Aarete (Fall 2021)/Molina Letters\n"
          ]
        }
      ]
    },
    {
      "cell_type": "code",
      "metadata": {
        "id": "vEm95HgGtb5v"
      },
      "source": [
        "import pandas as pd\n",
        "import numpy as np\n",
        "from datetime import datetime"
      ],
      "execution_count": null,
      "outputs": []
    },
    {
      "cell_type": "code",
      "metadata": {
        "id": "1xlQi9bctb5x",
        "colab": {
          "base_uri": "https://localhost:8080/",
          "height": 729
        },
        "outputId": "232b4d8c-c92a-41f8-f24a-62bbf6bf4d12"
      },
      "source": [
        "npi_info = pd.read_excel('NPI Info.xlsx', sheet_name='PDM Validation Detail Final', header=2).iloc[1:].reset_index(drop=True)\n",
        "npi_info['NPI'] = npi_info['NPI'].astype(int)\n",
        "npi_info.head()"
      ],
      "execution_count": null,
      "outputs": [
        {
          "output_type": "execute_result",
          "data": {
            "text/html": [
              "<div>\n",
              "<style scoped>\n",
              "    .dataframe tbody tr th:only-of-type {\n",
              "        vertical-align: middle;\n",
              "    }\n",
              "\n",
              "    .dataframe tbody tr th {\n",
              "        vertical-align: top;\n",
              "    }\n",
              "\n",
              "    .dataframe thead th {\n",
              "        text-align: right;\n",
              "    }\n",
              "</style>\n",
              "<table border=\"1\" class=\"dataframe\">\n",
              "  <thead>\n",
              "    <tr style=\"text-align: right;\">\n",
              "      <th></th>\n",
              "      <th>Owner</th>\n",
              "      <th>NPI</th>\n",
              "      <th>Validate</th>\n",
              "      <th>Update</th>\n",
              "      <th>Termination Date if Applicable</th>\n",
              "      <th>Last_Name/ Facility_Name</th>\n",
              "      <th>Validate.1</th>\n",
              "      <th>Update.1</th>\n",
              "      <th>First_Name</th>\n",
              "      <th>Validate.2</th>\n",
              "      <th>Update.2</th>\n",
              "      <th>Middle_ Name (only if populated)</th>\n",
              "      <th>Validate.3</th>\n",
              "      <th>Update.3</th>\n",
              "      <th>Email</th>\n",
              "      <th>Validate.4</th>\n",
              "      <th>Update.4</th>\n",
              "      <th>License</th>\n",
              "      <th>Validate.5</th>\n",
              "      <th>Update.5</th>\n",
              "      <th>LicenseBoard</th>\n",
              "      <th>Validate.6</th>\n",
              "      <th>Update.6</th>\n",
              "      <th>Primary_ Specialty</th>\n",
              "      <th>Validate.7</th>\n",
              "      <th>Update.7</th>\n",
              "      <th>Certification_Board_Primary</th>\n",
              "      <th>Validate.8</th>\n",
              "      <th>Update.8</th>\n",
              "      <th>Secondary_Specialty1</th>\n",
              "      <th>Validate.9</th>\n",
              "      <th>Update.9</th>\n",
              "      <th>Certification_Board_Secondary1</th>\n",
              "      <th>Validate.10</th>\n",
              "      <th>Update.10</th>\n",
              "      <th>Secondary_Specialty2</th>\n",
              "      <th>Validate.11</th>\n",
              "      <th>Update.11</th>\n",
              "      <th>Certification_Board_Secondary2</th>\n",
              "      <th>Validate.12</th>\n",
              "      <th>...</th>\n",
              "      <th>Thursday</th>\n",
              "      <th>Unnamed: 87</th>\n",
              "      <th>Validate.27</th>\n",
              "      <th>Update.27</th>\n",
              "      <th>Friday</th>\n",
              "      <th>Unnamed: 91</th>\n",
              "      <th>Validate.28</th>\n",
              "      <th>Update.28</th>\n",
              "      <th>Saturday</th>\n",
              "      <th>Unnamed: 95</th>\n",
              "      <th>Validate.29</th>\n",
              "      <th>Update.29</th>\n",
              "      <th>Sunday</th>\n",
              "      <th>Unnamed: 99</th>\n",
              "      <th>Validate.30</th>\n",
              "      <th>Update.30</th>\n",
              "      <th>Accepting_New_ Patient_ Pgm</th>\n",
              "      <th>Validate.31</th>\n",
              "      <th>Update.31</th>\n",
              "      <th>Line of Business</th>\n",
              "      <th>Validate.32</th>\n",
              "      <th>Update.32</th>\n",
              "      <th>Affiliated Group 1</th>\n",
              "      <th>Validate.33</th>\n",
              "      <th>Update.33</th>\n",
              "      <th>Affiliated Group 2</th>\n",
              "      <th>Validate.34</th>\n",
              "      <th>Update.34</th>\n",
              "      <th>Affiliated Group 3</th>\n",
              "      <th>Validate.35</th>\n",
              "      <th>Update.35</th>\n",
              "      <th>Affiliated Group 4</th>\n",
              "      <th>Validate.36</th>\n",
              "      <th>Update.36</th>\n",
              "      <th>Affiliated Group 5</th>\n",
              "      <th>Validate.37</th>\n",
              "      <th>Update.37</th>\n",
              "      <th>Unnamed: 123</th>\n",
              "      <th>Final Outcome</th>\n",
              "      <th>Summary Comments</th>\n",
              "    </tr>\n",
              "  </thead>\n",
              "  <tbody>\n",
              "    <tr>\n",
              "      <th>0</th>\n",
              "      <td>CC</td>\n",
              "      <td>1003830092</td>\n",
              "      <td>1. Affirmed</td>\n",
              "      <td>NaN</td>\n",
              "      <td>NaN</td>\n",
              "      <td>BUSHNELL</td>\n",
              "      <td>1. Affirmed</td>\n",
              "      <td>NaN</td>\n",
              "      <td>FREDERIC</td>\n",
              "      <td>1. Affirmed</td>\n",
              "      <td>NaN</td>\n",
              "      <td>R</td>\n",
              "      <td>1. Affirmed</td>\n",
              "      <td>NaN</td>\n",
              "      <td>NaN</td>\n",
              "      <td>3. New Info</td>\n",
              "      <td>rbushnell1231@yahoo.com</td>\n",
              "      <td>NaN</td>\n",
              "      <td>3. New Info</td>\n",
              "      <td>A74349</td>\n",
              "      <td>NaN</td>\n",
              "      <td>3. New Info</td>\n",
              "      <td>STATE BOARD OF MEDICAL EXAMINERS</td>\n",
              "      <td>Anesthesiology</td>\n",
              "      <td>1. Affirmed</td>\n",
              "      <td>NaN</td>\n",
              "      <td>AMERICAN BOARD OF ANESTHESIOLOGY INC.</td>\n",
              "      <td>1. Affirmed</td>\n",
              "      <td>NaN</td>\n",
              "      <td>NaN</td>\n",
              "      <td>1. Affirmed</td>\n",
              "      <td>NaN</td>\n",
              "      <td>NaN</td>\n",
              "      <td>NaN</td>\n",
              "      <td>NaN</td>\n",
              "      <td>NaN</td>\n",
              "      <td>NaN</td>\n",
              "      <td>NaN</td>\n",
              "      <td>NaN</td>\n",
              "      <td>NaN</td>\n",
              "      <td>...</td>\n",
              "      <td>08:00:00</td>\n",
              "      <td>17:00:00</td>\n",
              "      <td>6. No Longer Valid</td>\n",
              "      <td>7:00 AM - 5:00 PM</td>\n",
              "      <td>08:00:00</td>\n",
              "      <td>17:00:00</td>\n",
              "      <td>6. No Longer Valid</td>\n",
              "      <td>7:00 AM - 5:00 PM</td>\n",
              "      <td>CLOSED</td>\n",
              "      <td>CLOSED</td>\n",
              "      <td>1. Affirmed</td>\n",
              "      <td>NaN</td>\n",
              "      <td>CLOSED</td>\n",
              "      <td>CLOSED</td>\n",
              "      <td>1. Affirmed</td>\n",
              "      <td>NaN</td>\n",
              "      <td>Y</td>\n",
              "      <td>1. Affirmed</td>\n",
              "      <td>NaN</td>\n",
              "      <td>Dual</td>\n",
              "      <td>1. Affirmed</td>\n",
              "      <td>NaN</td>\n",
              "      <td>EL PROYECTO DEL BARRIO INC</td>\n",
              "      <td>1. Affirmed</td>\n",
              "      <td>NaN</td>\n",
              "      <td>EL PROYECTO DEL BARRIO INC</td>\n",
              "      <td>1. Affirmed</td>\n",
              "      <td>NaN</td>\n",
              "      <td>NaN</td>\n",
              "      <td>NaN</td>\n",
              "      <td>NaN</td>\n",
              "      <td>NaN</td>\n",
              "      <td>NaN</td>\n",
              "      <td>NaN</td>\n",
              "      <td>NaN</td>\n",
              "      <td>NaN</td>\n",
              "      <td>NaN</td>\n",
              "      <td>NaN</td>\n",
              "      <td>2. Validated with Changes</td>\n",
              "      <td>Doctor no longer sees patients at one address,...</td>\n",
              "    </tr>\n",
              "    <tr>\n",
              "      <th>1</th>\n",
              "      <td>CC</td>\n",
              "      <td>1003830092</td>\n",
              "      <td>1. Affirmed</td>\n",
              "      <td>NaN</td>\n",
              "      <td>NaN</td>\n",
              "      <td>BUSHNELL</td>\n",
              "      <td>1. Affirmed</td>\n",
              "      <td>NaN</td>\n",
              "      <td>FREDERIC</td>\n",
              "      <td>1. Affirmed</td>\n",
              "      <td>NaN</td>\n",
              "      <td>R</td>\n",
              "      <td>1. Affirmed</td>\n",
              "      <td>NaN</td>\n",
              "      <td>NaN</td>\n",
              "      <td>3. New Info</td>\n",
              "      <td>rbushnell1231@yahoo.com</td>\n",
              "      <td>NaN</td>\n",
              "      <td>3. New Info</td>\n",
              "      <td>A74349</td>\n",
              "      <td>NaN</td>\n",
              "      <td>3. New Info</td>\n",
              "      <td>STATE BOARD OF MEDICAL EXAMINERS</td>\n",
              "      <td>Anesthesiology</td>\n",
              "      <td>1. Affirmed</td>\n",
              "      <td>NaN</td>\n",
              "      <td>AMERICAN BOARD OF ANESTHESIOLOGY INC.</td>\n",
              "      <td>1. Affirmed</td>\n",
              "      <td>NaN</td>\n",
              "      <td>NaN</td>\n",
              "      <td>1. Affirmed</td>\n",
              "      <td>NaN</td>\n",
              "      <td>NaN</td>\n",
              "      <td>NaN</td>\n",
              "      <td>NaN</td>\n",
              "      <td>NaN</td>\n",
              "      <td>NaN</td>\n",
              "      <td>NaN</td>\n",
              "      <td>NaN</td>\n",
              "      <td>NaN</td>\n",
              "      <td>...</td>\n",
              "      <td>08:00:00</td>\n",
              "      <td>17:00:00</td>\n",
              "      <td>6. No Longer Valid</td>\n",
              "      <td>7:00 AM - 5:00 PM</td>\n",
              "      <td>08:00:00</td>\n",
              "      <td>17:00:00</td>\n",
              "      <td>6. No Longer Valid</td>\n",
              "      <td>7:00 AM - 5:00 PM</td>\n",
              "      <td>CLOSED</td>\n",
              "      <td>CLOSED</td>\n",
              "      <td>1. Affirmed</td>\n",
              "      <td>NaN</td>\n",
              "      <td>CLOSED</td>\n",
              "      <td>CLOSED</td>\n",
              "      <td>1. Affirmed</td>\n",
              "      <td>NaN</td>\n",
              "      <td>Y</td>\n",
              "      <td>1. Affirmed</td>\n",
              "      <td>NaN</td>\n",
              "      <td>Marketplace</td>\n",
              "      <td>1. Affirmed</td>\n",
              "      <td>NaN</td>\n",
              "      <td>EL PROYECTO DEL BARRIO INC</td>\n",
              "      <td>1. Affirmed</td>\n",
              "      <td>NaN</td>\n",
              "      <td>EL PROYECTO DEL BARRIO INC</td>\n",
              "      <td>1. Affirmed</td>\n",
              "      <td>NaN</td>\n",
              "      <td>NaN</td>\n",
              "      <td>NaN</td>\n",
              "      <td>NaN</td>\n",
              "      <td>NaN</td>\n",
              "      <td>NaN</td>\n",
              "      <td>NaN</td>\n",
              "      <td>NaN</td>\n",
              "      <td>NaN</td>\n",
              "      <td>NaN</td>\n",
              "      <td>NaN</td>\n",
              "      <td>2. Validated with Changes</td>\n",
              "      <td>Doctor no longer sees patients at one address,...</td>\n",
              "    </tr>\n",
              "    <tr>\n",
              "      <th>2</th>\n",
              "      <td>CC</td>\n",
              "      <td>1003830092</td>\n",
              "      <td>1. Affirmed</td>\n",
              "      <td>NaN</td>\n",
              "      <td>NaN</td>\n",
              "      <td>BUSHNELL</td>\n",
              "      <td>1. Affirmed</td>\n",
              "      <td>NaN</td>\n",
              "      <td>FREDERIC</td>\n",
              "      <td>1. Affirmed</td>\n",
              "      <td>NaN</td>\n",
              "      <td>R</td>\n",
              "      <td>1. Affirmed</td>\n",
              "      <td>NaN</td>\n",
              "      <td>NaN</td>\n",
              "      <td>3. New Info</td>\n",
              "      <td>rbushnell1231@yahoo.com</td>\n",
              "      <td>NaN</td>\n",
              "      <td>3. New Info</td>\n",
              "      <td>A74349</td>\n",
              "      <td>NaN</td>\n",
              "      <td>3. New Info</td>\n",
              "      <td>STATE BOARD OF MEDICAL EXAMINERS</td>\n",
              "      <td>Anesthesiology</td>\n",
              "      <td>1. Affirmed</td>\n",
              "      <td>NaN</td>\n",
              "      <td>AMERICAN BOARD OF ANESTHESIOLOGY INC.</td>\n",
              "      <td>1. Affirmed</td>\n",
              "      <td>NaN</td>\n",
              "      <td>NaN</td>\n",
              "      <td>1. Affirmed</td>\n",
              "      <td>NaN</td>\n",
              "      <td>NaN</td>\n",
              "      <td>NaN</td>\n",
              "      <td>NaN</td>\n",
              "      <td>NaN</td>\n",
              "      <td>NaN</td>\n",
              "      <td>NaN</td>\n",
              "      <td>NaN</td>\n",
              "      <td>NaN</td>\n",
              "      <td>...</td>\n",
              "      <td>08:00:00</td>\n",
              "      <td>17:00:00</td>\n",
              "      <td>6. No Longer Valid</td>\n",
              "      <td>7:00 AM - 5:00 PM</td>\n",
              "      <td>08:00:00</td>\n",
              "      <td>17:00:00</td>\n",
              "      <td>6. No Longer Valid</td>\n",
              "      <td>7:00 AM - 5:00 PM</td>\n",
              "      <td>CLOSED</td>\n",
              "      <td>CLOSED</td>\n",
              "      <td>1. Affirmed</td>\n",
              "      <td>NaN</td>\n",
              "      <td>CLOSED</td>\n",
              "      <td>CLOSED</td>\n",
              "      <td>1. Affirmed</td>\n",
              "      <td>NaN</td>\n",
              "      <td>Y</td>\n",
              "      <td>1. Affirmed</td>\n",
              "      <td>NaN</td>\n",
              "      <td>Medicaid</td>\n",
              "      <td>1. Affirmed</td>\n",
              "      <td>NaN</td>\n",
              "      <td>EL PROYECTO DEL BARRIO INC</td>\n",
              "      <td>1. Affirmed</td>\n",
              "      <td>NaN</td>\n",
              "      <td>EL PROYECTO DEL BARRIO INC</td>\n",
              "      <td>1. Affirmed</td>\n",
              "      <td>NaN</td>\n",
              "      <td>SHRINERS FOR CHILDREN PROFESSIONAL SERVICES</td>\n",
              "      <td>1. Affirmed</td>\n",
              "      <td>NaN</td>\n",
              "      <td>NaN</td>\n",
              "      <td>NaN</td>\n",
              "      <td>NaN</td>\n",
              "      <td>NaN</td>\n",
              "      <td>NaN</td>\n",
              "      <td>NaN</td>\n",
              "      <td>NaN</td>\n",
              "      <td>2. Validated with Changes</td>\n",
              "      <td>Doctor no longer sees patients at one address,...</td>\n",
              "    </tr>\n",
              "    <tr>\n",
              "      <th>3</th>\n",
              "      <td>CC</td>\n",
              "      <td>1003830092</td>\n",
              "      <td>1. Affirmed</td>\n",
              "      <td>NaN</td>\n",
              "      <td>NaN</td>\n",
              "      <td>BUSHNELL</td>\n",
              "      <td>1. Affirmed</td>\n",
              "      <td>NaN</td>\n",
              "      <td>FREDERIC</td>\n",
              "      <td>1. Affirmed</td>\n",
              "      <td>NaN</td>\n",
              "      <td>R</td>\n",
              "      <td>1. Affirmed</td>\n",
              "      <td>NaN</td>\n",
              "      <td>NaN</td>\n",
              "      <td>3. New Info</td>\n",
              "      <td>rbushnell1231@yahoo.com</td>\n",
              "      <td>NaN</td>\n",
              "      <td>3. New Info</td>\n",
              "      <td>A74349</td>\n",
              "      <td>NaN</td>\n",
              "      <td>3. New Info</td>\n",
              "      <td>STATE BOARD OF MEDICAL EXAMINERS</td>\n",
              "      <td>Anesthesiology</td>\n",
              "      <td>1. Affirmed</td>\n",
              "      <td>NaN</td>\n",
              "      <td>AMERICAN BOARD OF ANESTHESIOLOGY INC.</td>\n",
              "      <td>1. Affirmed</td>\n",
              "      <td>NaN</td>\n",
              "      <td>NaN</td>\n",
              "      <td>1. Affirmed</td>\n",
              "      <td>NaN</td>\n",
              "      <td>NaN</td>\n",
              "      <td>NaN</td>\n",
              "      <td>NaN</td>\n",
              "      <td>NaN</td>\n",
              "      <td>NaN</td>\n",
              "      <td>NaN</td>\n",
              "      <td>NaN</td>\n",
              "      <td>NaN</td>\n",
              "      <td>...</td>\n",
              "      <td>08:00:00</td>\n",
              "      <td>17:00:00</td>\n",
              "      <td>6. No Longer Valid</td>\n",
              "      <td>7:00 AM - 5:00 PM</td>\n",
              "      <td>08:00:00</td>\n",
              "      <td>17:00:00</td>\n",
              "      <td>6. No Longer Valid</td>\n",
              "      <td>7:00 AM - 5:00 PM</td>\n",
              "      <td>CLOSED</td>\n",
              "      <td>CLOSED</td>\n",
              "      <td>1. Affirmed</td>\n",
              "      <td>NaN</td>\n",
              "      <td>CLOSED</td>\n",
              "      <td>CLOSED</td>\n",
              "      <td>1. Affirmed</td>\n",
              "      <td>NaN</td>\n",
              "      <td>Y</td>\n",
              "      <td>1. Affirmed</td>\n",
              "      <td>NaN</td>\n",
              "      <td>Medicaid</td>\n",
              "      <td>1. Affirmed</td>\n",
              "      <td>NaN</td>\n",
              "      <td>SHRINERS FOR CHILDREN PROFESSIONAL SERVICES</td>\n",
              "      <td>1. Affirmed</td>\n",
              "      <td>NaN</td>\n",
              "      <td>NaN</td>\n",
              "      <td>NaN</td>\n",
              "      <td>NaN</td>\n",
              "      <td>NaN</td>\n",
              "      <td>NaN</td>\n",
              "      <td>NaN</td>\n",
              "      <td>NaN</td>\n",
              "      <td>NaN</td>\n",
              "      <td>NaN</td>\n",
              "      <td>NaN</td>\n",
              "      <td>NaN</td>\n",
              "      <td>NaN</td>\n",
              "      <td>NaN</td>\n",
              "      <td>2. Validated with Changes</td>\n",
              "      <td>Doctor no longer sees patients at one address,...</td>\n",
              "    </tr>\n",
              "    <tr>\n",
              "      <th>4</th>\n",
              "      <td>CC</td>\n",
              "      <td>1003830092</td>\n",
              "      <td>1. Affirmed</td>\n",
              "      <td>NaN</td>\n",
              "      <td>NaN</td>\n",
              "      <td>BUSHNELL</td>\n",
              "      <td>1. Affirmed</td>\n",
              "      <td>NaN</td>\n",
              "      <td>FREDERIC</td>\n",
              "      <td>1. Affirmed</td>\n",
              "      <td>NaN</td>\n",
              "      <td>NaN</td>\n",
              "      <td>3. New Info</td>\n",
              "      <td>R</td>\n",
              "      <td>NaN</td>\n",
              "      <td>3. New Info</td>\n",
              "      <td>rbushnell1231@yahoo.com</td>\n",
              "      <td>NaN</td>\n",
              "      <td>3. New Info</td>\n",
              "      <td>A74349</td>\n",
              "      <td>NaN</td>\n",
              "      <td>3. New Info</td>\n",
              "      <td>STATE BOARD OF MEDICAL EXAMINERS</td>\n",
              "      <td>ANESTHESIOLOGY</td>\n",
              "      <td>1. Affirmed</td>\n",
              "      <td>NaN</td>\n",
              "      <td>AMERICAN BOARD OF ANESTHESIOLOGY INC.</td>\n",
              "      <td>1. Affirmed</td>\n",
              "      <td>NaN</td>\n",
              "      <td>NaN</td>\n",
              "      <td>1. Affirmed</td>\n",
              "      <td>NaN</td>\n",
              "      <td>NaN</td>\n",
              "      <td>NaN</td>\n",
              "      <td>NaN</td>\n",
              "      <td>NaN</td>\n",
              "      <td>NaN</td>\n",
              "      <td>NaN</td>\n",
              "      <td>NaN</td>\n",
              "      <td>NaN</td>\n",
              "      <td>...</td>\n",
              "      <td>08:00:00</td>\n",
              "      <td>17:00:00</td>\n",
              "      <td>6. No Longer Valid</td>\n",
              "      <td>7:00 AM - 5:00 PM</td>\n",
              "      <td>08:00:00</td>\n",
              "      <td>17:00:00</td>\n",
              "      <td>6. No Longer Valid</td>\n",
              "      <td>7:00 AM - 5:00 PM</td>\n",
              "      <td>CLOSED</td>\n",
              "      <td>CLOSED</td>\n",
              "      <td>1. Affirmed</td>\n",
              "      <td>NaN</td>\n",
              "      <td>CLOSED</td>\n",
              "      <td>CLOSED</td>\n",
              "      <td>1. Affirmed</td>\n",
              "      <td>NaN</td>\n",
              "      <td>Y</td>\n",
              "      <td>1. Affirmed</td>\n",
              "      <td>NaN</td>\n",
              "      <td>Medicare</td>\n",
              "      <td>1. Affirmed</td>\n",
              "      <td>NaN</td>\n",
              "      <td>EL PROYECTO DEL BARRIO INC</td>\n",
              "      <td>1. Affirmed</td>\n",
              "      <td>NaN</td>\n",
              "      <td>EL PROYECTO DEL BARRIO INC</td>\n",
              "      <td>1. Affirmed</td>\n",
              "      <td>NaN</td>\n",
              "      <td>NaN</td>\n",
              "      <td>NaN</td>\n",
              "      <td>NaN</td>\n",
              "      <td>NaN</td>\n",
              "      <td>NaN</td>\n",
              "      <td>NaN</td>\n",
              "      <td>NaN</td>\n",
              "      <td>NaN</td>\n",
              "      <td>NaN</td>\n",
              "      <td>NaN</td>\n",
              "      <td>2. Validated with Changes</td>\n",
              "      <td>Doctor no longer sees patients at one address,...</td>\n",
              "    </tr>\n",
              "  </tbody>\n",
              "</table>\n",
              "<p>5 rows × 126 columns</p>\n",
              "</div>"
            ],
            "text/plain": [
              "  Owner  ...                                   Summary Comments\n",
              "0    CC  ...  Doctor no longer sees patients at one address,...\n",
              "1    CC  ...  Doctor no longer sees patients at one address,...\n",
              "2    CC  ...  Doctor no longer sees patients at one address,...\n",
              "3    CC  ...  Doctor no longer sees patients at one address,...\n",
              "4    CC  ...  Doctor no longer sees patients at one address,...\n",
              "\n",
              "[5 rows x 126 columns]"
            ]
          },
          "metadata": {},
          "execution_count": 4
        }
      ]
    },
    {
      "cell_type": "code",
      "metadata": {
        "id": "BZuLot2ntb5y",
        "colab": {
          "base_uri": "https://localhost:8080/"
        },
        "outputId": "9844c066-1133-463d-95f9-a8708bd8f213"
      },
      "source": [
        "active_npi = pd.read_excel('NPI Info.xlsx', sheet_name='NPI Detail', header=2)\n",
        "active_npi = active_npi[~(active_npi['Final Outcome'] == '7. Terminated')].reset_index(drop=True)\n",
        "active_npi.info()"
      ],
      "execution_count": null,
      "outputs": [
        {
          "output_type": "stream",
          "name": "stdout",
          "text": [
            "<class 'pandas.core.frame.DataFrame'>\n",
            "RangeIndex: 284 entries, 0 to 283\n",
            "Data columns (total 9 columns):\n",
            " #   Column                    Non-Null Count  Dtype         \n",
            "---  ------                    --------------  -----         \n",
            " 0   owner                     196 non-null    object        \n",
            " 1   NPI                       284 non-null    int64         \n",
            " 2   Last_Name/ Facility_Name  284 non-null    object        \n",
            " 3   First_Name                282 non-null    object        \n",
            " 4   Date First Submitted      88 non-null     datetime64[ns]\n",
            " 5   Final Outcome             284 non-null    object        \n",
            " 6   Summary Notes             281 non-null    object        \n",
            " 7   Additional Notes          124 non-null    object        \n",
            " 8   Column1                   0 non-null      float64       \n",
            "dtypes: datetime64[ns](1), float64(1), int64(1), object(6)\n",
            "memory usage: 20.1+ KB\n"
          ]
        }
      ]
    },
    {
      "cell_type": "code",
      "metadata": {
        "id": "dSAHMY2-tb5z",
        "colab": {
          "base_uri": "https://localhost:8080/"
        },
        "outputId": "ee955112-8aa1-4905-d33f-25d536ad647d"
      },
      "source": [
        "letter_info_template = pd.read_excel('Table Format for Letters.xlsx', sheet_name='Sheet1', header=1)\n",
        "letter_info_template.info()"
      ],
      "execution_count": null,
      "outputs": [
        {
          "output_type": "stream",
          "name": "stdout",
          "text": [
            "<class 'pandas.core.frame.DataFrame'>\n",
            "RangeIndex: 55 entries, 0 to 54\n",
            "Data columns (total 3 columns):\n",
            " #   Column                                             Non-Null Count  Dtype  \n",
            "---  ------                                             --------------  -----  \n",
            " 0   Provider Data Fields                               55 non-null     object \n",
            " 1   Provider Data Information Based on Recent Updates  0 non-null      float64\n",
            " 2   Provider Comments Noting Exceptions                0 non-null      float64\n",
            "dtypes: float64(2), object(1)\n",
            "memory usage: 1.4+ KB\n"
          ]
        }
      ]
    },
    {
      "cell_type": "code",
      "metadata": {
        "id": "Rr87jEvPtb50",
        "colab": {
          "base_uri": "https://localhost:8080/"
        },
        "outputId": "799b3328-177f-4da4-c979-8d9774ffda08"
      },
      "source": [
        "letter_info_template['Provider Data Fields'].unique()"
      ],
      "execution_count": null,
      "outputs": [
        {
          "output_type": "execute_result",
          "data": {
            "text/plain": [
              "array(['NPI', 'Last_Name/ Facility_Name', 'First_Name',\n",
              "       'Middle_ Name (only if populated)', 'Email', 'License',\n",
              "       'LicenseBoard', 'Primary_ Specialty',\n",
              "       'Certification_Board_Primary', 'Secondary_Specialty1',\n",
              "       'Certification_Board_Secondary1', 'Secondary_Specialty2',\n",
              "       'Certification_Board_Secondary2', 'Secondary_Specialty3',\n",
              "       'Certification_Board_Secondary3', 'Secondary_Specialty4',\n",
              "       'Certification_Board_Secondary4', 'Address', 'City', 'State',\n",
              "       'ZIP', 'Service_ Location_ County', 'Phone', 'Fax', 'Monday',\n",
              "       'Hrs_To', 'Hrs_From', 'Tuesday', 'Wednesday', 'Thursday', 'Friday',\n",
              "       'Saturday', 'Sunday', 'Accepting_New_ Patient_ Pgm', 'Medicad',\n",
              "       'Medicare', 'Marketplace', 'Duals', 'Affiliated Group 1',\n",
              "       'Affiliated Group 2', 'Affiliated Group 3', 'Affiliated Group 4',\n",
              "       'Affiliated Group 5'], dtype=object)"
            ]
          },
          "metadata": {},
          "execution_count": 7
        }
      ]
    },
    {
      "cell_type": "markdown",
      "metadata": {
        "id": "1X6wo_jKtb51"
      },
      "source": [
        "### Remove Terminated NPIs"
      ]
    },
    {
      "cell_type": "code",
      "metadata": {
        "scrolled": false,
        "id": "dPJCR-7Etb51",
        "colab": {
          "base_uri": "https://localhost:8080/"
        },
        "outputId": "8c289aa3-4829-44d4-c00c-dd8a12cfa1d4"
      },
      "source": [
        "active_npi = npi_info[npi_info['NPI'].isin(active_npi['NPI'])].reset_index(drop=True)\n",
        "active_npi = active_npi.rename(columns={'Monday': 'Monday Hrs_From', 'Unnamed: 75': 'Monday Hrs_To', \n",
        "                           'Tuesday': 'Tuesday Hrs_From', 'Unnamed: 79': 'Tuesday Hrs_To', \n",
        "                           'Wednesday': 'Wednesday Hrs_From', 'Unnamed: 83': 'Wednesday Hrs_To', \n",
        "                           'Thursday': 'Thursday Hrs_From', 'Unnamed: 87': 'Thursday Hrs_To', 'Friday': 'Friday Hrs_From', \n",
        "                           'Unnamed: 91': 'Friday Hrs_To', 'Saturday': 'Saturday Hrs_From', 'Unnamed: 95': 'Saturday Hrs_To', \n",
        "                           'Sunday': 'Sunday Hrs_From', 'Unnamed: 99': 'Sunday Hrs_To'})\n",
        "active_npi.shape"
      ],
      "execution_count": null,
      "outputs": [
        {
          "output_type": "execute_result",
          "data": {
            "text/plain": [
              "(2155, 126)"
            ]
          },
          "metadata": {},
          "execution_count": 8
        }
      ]
    },
    {
      "cell_type": "markdown",
      "metadata": {
        "id": "oSaaBVDLtb52"
      },
      "source": [
        "### Remove NPIs Without Addresses"
      ]
    },
    {
      "cell_type": "code",
      "metadata": {
        "scrolled": true,
        "id": "Cvw-LAzFtb54",
        "colab": {
          "base_uri": "https://localhost:8080/"
        },
        "outputId": "3e8df1d3-8273-483f-925a-12b5778b20bd"
      },
      "source": [
        "invalid_npi_addresses = active_npi[(active_npi['Validate.17'] != '1. Affirmed') & (active_npi['Update.17'].isna())].index\n",
        "active_npi = active_npi.drop(invalid_npi_addresses).reset_index(drop=True)\n",
        "active_npi.shape"
      ],
      "execution_count": null,
      "outputs": [
        {
          "output_type": "execute_result",
          "data": {
            "text/plain": [
              "(1678, 126)"
            ]
          },
          "metadata": {},
          "execution_count": 9
        }
      ]
    },
    {
      "cell_type": "markdown",
      "metadata": {
        "id": "pd9BZQUFtb55"
      },
      "source": [
        "### Transform "
      ]
    },
    {
      "cell_type": "code",
      "metadata": {
        "id": "c3N8Zu4jtb55",
        "colab": {
          "base_uri": "https://localhost:8080/"
        },
        "outputId": "a5dfc384-2025-43d4-f8d0-8181a7bd1dc6"
      },
      "source": [
        "prov_feats = ['NPI', 'Last_Name/ Facility_Name', 'First_Name', 'Middle_ Name (only if populated)', 'Email', 'License', \n",
        "              'LicenseBoard', 'Primary_ Specialty', 'Certification_Board_Primary', 'Secondary_Specialty1', 'Secondary_Specialty2', \n",
        "              'Certification_Board_Secondary1', 'Certification_Board_Secondary2', 'Secondary_Specialty3', \n",
        "              'Certification_Board_Secondary3', 'Secondary_Specialty4', 'Certification_Board_Secondary4', \n",
        "             'Address', 'City', 'State', 'ZIP', 'Service_ Location_ County', 'Phone', 'Fax', \n",
        "              'Monday Hrs_From', 'Monday Hrs_To', 'Tuesday Hrs_From', 'Tuesday Hrs_To', 'Wednesday Hrs_From', 'Wednesday Hrs_To', \n",
        "              'Thursday Hrs_From', 'Thursday Hrs_To', 'Friday Hrs_From', 'Friday Hrs_To', 'Saturday Hrs_From', 'Saturday Hrs_To', \n",
        "              'Sunday Hrs_From', 'Sunday Hrs_To', 'Accepting_New_ Patient_ Pgm', 'Line of Business', 'Affiliated Group 1', 'Affiliated Group 2', \n",
        "              'Affiliated Group 3', 'Affiliated Group 4', 'Affiliated Group 5']\n",
        "\n",
        "table_to_transf = active_npi[prov_feats]\n",
        "table_to_transf['ZIP'] = table_to_transf['ZIP'].astype(int)\n",
        "table_to_transf.shape\n"
      ],
      "execution_count": null,
      "outputs": [
        {
          "output_type": "stream",
          "name": "stderr",
          "text": [
            "/usr/local/lib/python3.7/dist-packages/ipykernel_launcher.py:12: SettingWithCopyWarning: \n",
            "A value is trying to be set on a copy of a slice from a DataFrame.\n",
            "Try using .loc[row_indexer,col_indexer] = value instead\n",
            "\n",
            "See the caveats in the documentation: https://pandas.pydata.org/pandas-docs/stable/user_guide/indexing.html#returning-a-view-versus-a-copy\n",
            "  if sys.path[0] == '':\n"
          ]
        },
        {
          "output_type": "execute_result",
          "data": {
            "text/plain": [
              "(1678, 45)"
            ]
          },
          "metadata": {},
          "execution_count": 10
        }
      ]
    },
    {
      "cell_type": "code",
      "metadata": {
        "id": "1ZKkyqtltb57"
      },
      "source": [
        "def parse_time(text, fmts=['%I:%M%p', '%I:%M %p', '%H', '%H:%M', '%I%p', '%I %p']):\n",
        "    for fmt in fmts:\n",
        "        try:\n",
        "            return datetime.strptime(text, fmt).time()\n",
        "        except ValueError:\n",
        "            pass\n",
        "    return text"
      ],
      "execution_count": null,
      "outputs": []
    },
    {
      "cell_type": "code",
      "metadata": {
        "id": "Zc2rHchotb58",
        "colab": {
          "base_uri": "https://localhost:8080/"
        },
        "outputId": "a343f7f7-5ef1-4f94-ff40-ae57089321b8"
      },
      "source": [
        "for i, row in table_to_transf.iterrows():\n",
        "    for feat in prov_feats: \n",
        "        if 'Hrs_From' in feat:  \n",
        "            if active_npi.iloc[i, (active_npi.columns.tolist().index(feat) + 2)] != '1. Affirmed': # if validate value of feature not affired\n",
        "                hrs_updt = active_npi.iloc[i, (active_npi.columns.tolist().index(feat) + 3)]\n",
        "                try:\n",
        "                    hrs_from = parse_time(hrs_updt.split('-')[0].strip().upper())\n",
        "                except AttributeError: # if nan\n",
        "                    hrs_from = hrs_updt\n",
        "                table_to_transf.loc[i, feat] = hrs_from # update feature value with update value\n",
        "                \n",
        "        elif 'Hrs_To' in feat:\n",
        "            if active_npi.iloc[i, (active_npi.columns.tolist().index(feat) + 1)] != '1. Affirmed': # if validate value of feature not affired\n",
        "                hrs_updt = active_npi.iloc[i, (active_npi.columns.tolist().index(feat) + 2)]\n",
        "                try:\n",
        "                    hrs_to = parse_time(hrs_updt.split('-')[1].strip().upper())\n",
        "                except IndexError: # if CLOSED\n",
        "                    hrs_to = hrs_updt\n",
        "                except AttributeError:\n",
        "                    hrs_to = hrs_updt # if nan\n",
        "                    \n",
        "                table_to_transf.loc[i, feat] = hrs_to # update feature value with update value\n",
        "            \n",
        "        else:\n",
        "            if active_npi.iloc[i, (active_npi.columns.tolist().index(feat) + 1)] != '1. Affirmed': # if validate value of feature not affired\n",
        "                table_to_transf.loc[i, feat] = active_npi.iloc[i, (active_npi.columns.tolist().index(feat) + 2)] # update feature value with update value"
      ],
      "execution_count": null,
      "outputs": [
        {
          "output_type": "stream",
          "name": "stderr",
          "text": [
            "/usr/local/lib/python3.7/dist-packages/pandas/core/indexing.py:1763: SettingWithCopyWarning: \n",
            "A value is trying to be set on a copy of a slice from a DataFrame.\n",
            "Try using .loc[row_indexer,col_indexer] = value instead\n",
            "\n",
            "See the caveats in the documentation: https://pandas.pydata.org/pandas-docs/stable/user_guide/indexing.html#returning-a-view-versus-a-copy\n",
            "  isetter(loc, value)\n"
          ]
        }
      ]
    },
    {
      "cell_type": "code",
      "metadata": {
        "id": "bjWzvYX7tb59",
        "colab": {
          "base_uri": "https://localhost:8080/"
        },
        "outputId": "26118325-9263-4e6c-d51a-cd618ea75a2d"
      },
      "source": [
        "for group_num, group in table_to_transf.groupby('NPI'):\n",
        "    aff_groups = pd.concat([group['Affiliated Group 1'], group['Affiliated Group 2'], group['Affiliated Group 3'], group['Affiliated Group 4'], group['Affiliated Group 5']]).dropna().unique()\n",
        "    table_to_transf.loc[group.index, 'Affiliated Groups'] = '; '.join(aff_groups)\n",
        "\n",
        "table_to_transf = table_to_transf.drop(columns=[f'Affiliated Group {i}' for i in range(1, 6)])"
      ],
      "execution_count": null,
      "outputs": [
        {
          "output_type": "stream",
          "name": "stderr",
          "text": [
            "/usr/local/lib/python3.7/dist-packages/pandas/core/indexing.py:1596: SettingWithCopyWarning: \n",
            "A value is trying to be set on a copy of a slice from a DataFrame.\n",
            "Try using .loc[row_indexer,col_indexer] = value instead\n",
            "\n",
            "See the caveats in the documentation: https://pandas.pydata.org/pandas-docs/stable/user_guide/indexing.html#returning-a-view-versus-a-copy\n",
            "  self.obj[key] = _infer_fill_value(value)\n",
            "/usr/local/lib/python3.7/dist-packages/pandas/core/indexing.py:1763: SettingWithCopyWarning: \n",
            "A value is trying to be set on a copy of a slice from a DataFrame.\n",
            "Try using .loc[row_indexer,col_indexer] = value instead\n",
            "\n",
            "See the caveats in the documentation: https://pandas.pydata.org/pandas-docs/stable/user_guide/indexing.html#returning-a-view-versus-a-copy\n",
            "  isetter(loc, value)\n"
          ]
        }
      ]
    },
    {
      "cell_type": "code",
      "metadata": {
        "id": "A_irvn3rtb59"
      },
      "source": [
        "table_for_letter_cols = ['NPI', 'Last_Name/ Facility_Name', 'First_Name',\n",
        "       'Middle_ Name (only if populated)', 'Email', 'License', 'LicenseBoard',\n",
        "       'Primary_ Specialty', 'Certification_Board_Primary',\n",
        "       'Secondary_Specialty1', 'Secondary_Specialty2', 'Secondary_Specialty3', \n",
        "       'Secondary_Specialty4', 'Certification_Board_Secondary1',\n",
        "       'Certification_Board_Secondary2','Certification_Board_Secondary3',\n",
        "       'Certification_Board_Secondary4', 'Address', 'City', 'State', 'ZIP',\n",
        "       'Service_ Location_ County', 'Phone', 'Fax', 'Monday Hrs_From',\n",
        "       'Monday Hrs_To', 'Tuesday Hrs_From', 'Tuesday Hrs_To',\n",
        "       'Wednesday Hrs_From', 'Wednesday Hrs_To', 'Thursday Hrs_From',\n",
        "       'Thursday Hrs_To', 'Friday Hrs_From', 'Friday Hrs_To',\n",
        "       'Saturday Hrs_From', 'Saturday Hrs_To', 'Sunday Hrs_From',\n",
        "       'Sunday Hrs_To', 'Accepting_New_ Patient_ Pgm', 'Medicaid', 'Medicare',\n",
        "       'Marketplace', 'Dual', 'Affiliated Groups']\n",
        "tables_for_letter = []\n",
        "\n",
        "for group_num, group in table_to_transf.groupby(['NPI', 'Address']):\n",
        "    table_for_letter = pd.DataFrame(index=table_for_letter_cols, columns=['Provider Data Information Based on Recent Updates', 'Provider Comments Noting Exceptions'])\n",
        "    for info_feat in group.columns:\n",
        "        if info_feat == 'Line of Business':\n",
        "            for lob in group['Line of Business'].values:\n",
        "                table_for_letter.loc[lob, 'Provider Data Information Based on Recent Updates'] = 'Participating'\n",
        "            for lob in ['Medicaid', 'Medicare','Marketplace', 'Dual']:\n",
        "                if table_for_letter.loc[lob, 'Provider Data Information Based on Recent Updates'] != 'Participating':\n",
        "                    table_for_letter.loc[lob, 'Provider Data Information Based on Recent Updates'] = 'Non-Participating'\n",
        "        else:\n",
        "            table_for_letter.loc[info_feat, 'Provider Data Information Based on Recent Updates'] = group[info_feat].values[0] \n",
        "    #table_for_letter = table_for_letter.iloc[:51] # ensure number of pages in letter < 4\n",
        "    tables_for_letter.append(table_for_letter.reset_index().rename(columns={'index': 'Provider Data Fields'}).fillna(''))"
      ],
      "execution_count": null,
      "outputs": []
    },
    {
      "cell_type": "markdown",
      "metadata": {
        "id": "8XKqhOyBtb5-"
      },
      "source": [
        "**Save**"
      ]
    },
    {
      "cell_type": "code",
      "metadata": {
        "id": "Xw77wFG9tb5-"
      },
      "source": [
        "import pickle"
      ],
      "execution_count": null,
      "outputs": []
    },
    {
      "cell_type": "code",
      "metadata": {
        "id": "cqldsEVWtb5_"
      },
      "source": [
        "with open('tables_for_letter.pkl', 'wb') as f:\n",
        "    pickle.dump(tables_for_letter, f)"
      ],
      "execution_count": null,
      "outputs": []
    }
  ]
}